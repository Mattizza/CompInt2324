{
 "cells": [
  {
   "cell_type": "markdown",
   "metadata": {},
   "source": [
    "# Lab 1 - A*\n",
    "\n",
    "An implementation of the A* search algorithm ideated and programmed by **Claudio Savelli (s)** & **Mattia Sabato (s305849)** during a cold and rainy October. We have designed the algorithm in order to not only reach the goal in the **fastest way** but also in a **smart way**. We achieve this by **reducing the number of overlappings** and by forcing a solution which has the **smallest number of shared points** in the sets considered in the final solution. Even if slower, our solution shows better performances than the one proposed by the Professor when setting the number of overlappings as a major KPI."
   ]
  },
  {
   "cell_type": "markdown",
   "metadata": {},
   "source": [
    "## Set up"
   ]
  },
  {
   "cell_type": "code",
   "execution_count": 2,
   "metadata": {},
   "outputs": [],
   "source": [
    "from random import random\n",
    "from functools import reduce\n",
    "from collections import namedtuple, deque\n",
    "from queue import PriorityQueue, SimpleQueue\n",
    "from time import time\n",
    "from math import ceil\n",
    "from tqdm.auto import tqdm\n",
    "from random import seed\n",
    "\n",
    "import matplotlib.pyplot as plt\n",
    "import numpy as np"
   ]
  },
  {
   "cell_type": "code",
   "execution_count": 3,
   "metadata": {},
   "outputs": [],
   "source": [
    "# Define the configuration of the problem.\n",
    "PROBLEM_SIZE = 27    # Number of points to be covered.\n",
    "NUM_SETS = 100       # Number of sets in our pool.\n",
    "ALPHA = 0.4          # Probability for a set to cover one point.\n",
    "\n",
    "State = namedtuple('State', ['taken', 'not_taken'])\n",
    "\n",
    "seed(42)\n",
    "SETS = tuple(np.array([random() < ALPHA for _ in range(PROBLEM_SIZE)]) \\\n",
    "                for _ in range (NUM_SETS))"
   ]
  },
  {
   "cell_type": "code",
   "execution_count": 4,
   "metadata": {},
   "outputs": [],
   "source": [
    "def goal_check(state: namedtuple) -> bool:\n",
    "    '''\n",
    "    Checks whether the problem is solvable and return `False` if not.\n",
    "    '''\n",
    "    return np.all(reduce(np.logical_or, [SETS[i] for i in state.taken], \\\n",
    "                         np.array([False for _ in range(PROBLEM_SIZE)])))\n",
    "\n",
    "\n",
    "def proximity(state: namedtuple) -> int:\n",
    "    '''\n",
    "    Computes the proximity between a candidate state and the goal by\n",
    "    summing the updated number of covered points.\n",
    "    '''\n",
    "    return sum(reduce(np.logical_or, [SETS[i] for i in state.taken],\n",
    "               np.array([False for _ in range(PROBLEM_SIZE)])))\n",
    "\n",
    "\n",
    "def cost(state: namedtuple) -> float:\n",
    "    '''\n",
    "    Computes the cost associated to a candidate state by summing the\n",
    "    overlappings over the same point.\n",
    "    '''\n",
    "    if len(state.taken) == 0:\n",
    "        return 0\n",
    "    else:\n",
    "        return sum(np.array([SETS[i] for i in state.taken]).sum(axis = 0))\n",
    "\n",
    "\n",
    "def count_overlappings(state: namedtuple) -> int:\n",
    "    '''\n",
    "    Computes the total number of overlappings returned by the current state.\n",
    "    '''\n",
    "    return cost(state) - PROBLEM_SIZE\n",
    "\n",
    "\n",
    "def visualize_state(state: namedtuple, title: str) -> None:\n",
    "    '''\n",
    "    Visualize how does the state look like. Thanks Beatrice Occhiena!\n",
    "    [https://github.com/beatrice-occhiena](https://github.com/beatrice-occhiena)\n",
    "    '''\n",
    "    plt.figure(figsize = (7, 2))\n",
    "    plt.imshow(take_state_from_set(state.taken), cmap = 'RdPu', aspect = 'auto')\n",
    "    plt.title(title)\n",
    "    plt.xlabel(\"Problem Elements\")\n",
    "    plt.xticks(np.arange(PROBLEM_SIZE))\n",
    "    plt.ylabel(\"Taken Sets\")\n",
    "    \n",
    "    # On the ticks of the y axis, show the indices of the taken sets\n",
    "    plt.yticks(np.arange(len(state.taken)), list(state.taken))\n",
    "    plt.show()\n",
    "\n",
    "\n",
    "def covered(state: namedtuple) -> np.ndarray:\n",
    "    '''\n",
    "    Returns an array of `bool` specifying whether a point has\n",
    "    been covered or not.\n",
    "    '''\n",
    "    return reduce(np.logical_or, [SETS[i] for i in state.taken],\n",
    "                  np.array([False for _ in range(PROBLEM_SIZE)]))\n",
    "\n",
    "\n",
    "def h_prof_c_prof(state: namedtuple, h: str = 'h3') -> int:\n",
    "    '''\n",
    "    Choose from a family of herustics. Possible choices make use \n",
    "    of the distance between the goal and the candidate set in different ways :\n",
    "    - `h1`, considers the biggest set;\n",
    "    - `h2`, considers the biggest set which has not been taken yet;\n",
    "    - `h3`, considers also the order.\n",
    "\n",
    "    Here the associated cost is simply the number of states taken.\n",
    "    '''\n",
    "    \n",
    "    if h == 'h1':\n",
    "\n",
    "        largest_set_size = max(sum(s) for s in SETS)\n",
    "        missing_size = PROBLEM_SIZE - sum(covered(state))\n",
    "        optimistic_estimate = ceil(missing_size / largest_set_size) \n",
    "        \n",
    "        return len(state.taken) + optimistic_estimate\n",
    "    \n",
    "    elif h == 'h2':\n",
    "\n",
    "        already_covered = covered(state)\n",
    "        \n",
    "        if np.all(already_covered):\n",
    "            return 0\n",
    "        \n",
    "        largest_set_size = max(sum(np.logical_and(s, np.logical_not(already_covered))) for s in SETS)\n",
    "        missing_size = PROBLEM_SIZE - sum(already_covered)\n",
    "        optimistic_estimate = ceil(missing_size / largest_set_size)\n",
    "        \n",
    "        return len(state.taken) + optimistic_estimate\n",
    "    \n",
    "    elif h == 'h3':\n",
    "\n",
    "        already_covered = covered(state)\n",
    "    \n",
    "        if np.all(already_covered):\n",
    "            return 0\n",
    "        \n",
    "        missing_size = PROBLEM_SIZE - sum(already_covered)\n",
    "        candidates = sorted((sum(np.logical_and(s, np.logical_not(already_covered))) for s in SETS),\n",
    "                            reverse = True)\n",
    "        taken = 1\n",
    "        \n",
    "        while sum(candidates[:taken]) < missing_size:\n",
    "            taken += 1\n",
    "        \n",
    "        return len(state.taken) + taken\n",
    "    \n",
    "\n",
    "def take_state_from_set(state: set) -> list: \n",
    "    '''\n",
    "    Takes as input the id of each state and returns a matrix where:\n",
    "    - each row is a state;\n",
    "    - each column is a point;\n",
    "    - the value represent whether the point is covered by the set.\n",
    "\n",
    "    Useful for visualization purposes.\n",
    "    '''\n",
    "    res = []\n",
    "    for elem in state:\n",
    "        res.append(SETS[elem])\n",
    "    return res\n",
    "\n",
    "\n",
    "def naive_distance(state: namedtuple) -> int:\n",
    "    '''\n",
    "    Simply returns the number of uncovered states.\n",
    "    '''\n",
    "    return PROBLEM_SIZE - sum(covered(state))\n",
    "    \n",
    "\n",
    "assert goal_check(State(set(range(NUM_SETS)), set())), 'Problem not solvable'"
   ]
  },
  {
   "cell_type": "markdown",
   "metadata": {},
   "source": [
    "## Experiments: Us vs Prof"
   ]
  },
  {
   "cell_type": "markdown",
   "metadata": {},
   "source": [
    "Here we test our algorithm using as a baseline the one provided by the Prof. Notice there is a **huge** difference in terms of **speed** and **number of iterations** between the two solutions, and this was actually expected since in the one proposed by us we are imposing stricter conditions. Still, given our goal, the solution is **more than satisfactory**! We actually were able to **minimize the overlappings** and reach the goal with a **small enough number of sets**. Given the premises and the requirements, it is a success! We have won, Prof\n",
    "\n",
    "...or, at least, let us believe it.\n",
    "\n",
    "P.S.: we would like to say **THANK YOU** to [Beatrice Occhiena](https://github.com/beatrice-occhiena), from which we have borrowed the function used to plot the sets. Good job!"
   ]
  },
  {
   "cell_type": "code",
   "execution_count": 5,
   "metadata": {},
   "outputs": [
    {
     "name": "stderr",
     "output_type": "stream",
     "text": [
      "0it [00:00, ?it/s]"
     ]
    },
    {
     "name": "stderr",
     "output_type": "stream",
     "text": [
      "7662it [00:54, 141.39it/s]\n"
     ]
    },
    {
     "name": "stdout",
     "output_type": "stream",
     "text": [
      "Solved in 7662 steps (3 tiles) in 54203ms\n",
      "Sets: {88, 13, 46}\n",
      "Overlappings: 4\n"
     ]
    },
    {
     "data": {
      "image/png": "[encoded data removed]",
      "text/plain": [
       "<Figure size 700x200 with 1 Axes>"
      ]
     },
     "metadata": {},
     "output_type": "display_data"
    }
   ],
   "source": [
    "frontier = PriorityQueue() \n",
    "state = State(set(), set(range(NUM_SETS)))\n",
    "frontier.put((proximity(state), state))\n",
    "\n",
    "counter = 0\n",
    "_, current_state = frontier.get()\n",
    "\n",
    "tic = time()\n",
    "\n",
    "with tqdm(total = None) as pbar:\n",
    "    while not goal_check(current_state): \n",
    "\n",
    "        counter += 1\n",
    "\n",
    "        for action in current_state.not_taken:\n",
    "\n",
    "            new_state = State(current_state.taken ^ {action},\n",
    "                              current_state.not_taken ^ {action})\n",
    "            frontier.put((cost(new_state) - proximity(new_state), new_state))\n",
    "        \n",
    "        _, current_state = frontier.get()\n",
    "        pbar.update(1)\n",
    "    \n",
    "toc = time()\n",
    "\n",
    "print(f'Solved in {counter} steps ({len(current_state.taken)} tiles) \\\n",
    "in {(toc - tic)*1000:.0f}ms')\n",
    "print(f'Sets: {current_state.taken}')\n",
    "print(f'Overlappings: {count_overlappings(current_state)}')\n",
    "\n",
    "visualize_state(current_state, 'Us')"
   ]
  },
  {
   "cell_type": "code",
   "execution_count": 6,
   "metadata": {},
   "outputs": [
    {
     "name": "stderr",
     "output_type": "stream",
     "text": [
      "9it [00:01,  7.53it/s]\n"
     ]
    },
    {
     "name": "stdout",
     "output_type": "stream",
     "text": [
      "Solved in 9 steps (3 tiles) in 1198ms\n",
      "Sets: {82, 2, 58}\n",
      "Overlappings: 13\n"
     ]
    },
    {
     "data": {
      "image/png": "[encoded data removed]",
      "text/plain": [
       "<Figure size 700x200 with 1 Axes>"
      ]
     },
     "metadata": {},
     "output_type": "display_data"
    }
   ],
   "source": [
    "frontier = PriorityQueue() \n",
    "state = State(set(), set(range(NUM_SETS)))\n",
    "frontier.put((h_prof_c_prof(state), state))\n",
    "\n",
    "counter = 0\n",
    "_, current_state_prof = frontier.get()\n",
    "\n",
    "tic = time()\n",
    "\n",
    "with tqdm(total = None) as pbar:\n",
    "    while not goal_check(current_state_prof): \n",
    "\n",
    "        counter += 1\n",
    "\n",
    "        for action in current_state_prof.not_taken:\n",
    "\n",
    "            new_state = State(current_state_prof.taken ^ {action},\n",
    "                              current_state_prof.not_taken ^ {action})\n",
    "            frontier.put((h_prof_c_prof(new_state), new_state))\n",
    "        \n",
    "        _, current_state_prof = frontier.get()\n",
    "        pbar.update(1)\n",
    "    \n",
    "toc = time()\n",
    "\n",
    "print(f'Solved in {counter} steps ({len(current_state_prof.taken)} tiles) \\\n",
    "in {(toc - tic)*1000:.0f}ms')\n",
    "print(f'Sets: {current_state_prof.taken}')\n",
    "print(f'Overlappings: {count_overlappings(current_state_prof)}')\n",
    "\n",
    "visualize_state(current_state_prof, 'Prof')"
   ]
  },
  {
   "cell_type": "markdown",
   "metadata": {},
   "source": [
    "## Additional"
   ]
  },
  {
   "cell_type": "markdown",
   "metadata": {},
   "source": [
    "Here we have analyzed also other search algorithms in order to show their performance in terms of overlappings. Our solution outperforms all of them, even though more slowly."
   ]
  },
  {
   "cell_type": "markdown",
   "metadata": {},
   "source": [
    "### Breadth-First"
   ]
  },
  {
   "cell_type": "code",
   "execution_count": 11,
   "metadata": {},
   "outputs": [
    {
     "name": "stderr",
     "output_type": "stream",
     "text": [
      "8277it [00:18, 724.61it/s]"
     ]
    }
   ],
   "source": [
    "frontier = SimpleQueue()\n",
    "state = State(set(), set(range(NUM_SETS)))\n",
    "frontier.put(state)\n",
    "\n",
    "counter = 0\n",
    "current_state_bf = frontier.get()\n",
    "\n",
    "tic = time()\n",
    "\n",
    "with tqdm(total = None) as pbar:\n",
    "    while not goal_check(current_state_bf):\n",
    "        \n",
    "        counter += 1\n",
    "        \n",
    "        for action in current_state_bf.not_taken:\n",
    "            \n",
    "            new_state = State(\n",
    "                current_state_bf.taken ^ {action},\n",
    "                current_state_bf.not_taken ^ {action})\n",
    "            frontier.put(new_state)\n",
    "        \n",
    "        current_state_bf = frontier.get()\n",
    "        pbar.update(1)\n",
    "\n",
    "toc = time()\n",
    "\n",
    "print(f'Solved in {counter} steps ({len(current_state_bf.taken)} tiles) \\\n",
    "in {(toc - tic)*1000:.0f}ms')\n",
    "print(f'Sets: {current_state_bf.taken}')\n",
    "print(f'Overlappings: {count_overlappings(current_state_bf)}')\n",
    "\n",
    "visualize_state(current_state_bf, 'Breadth-First')"
   ]
  },
  {
   "cell_type": "markdown",
   "metadata": {},
   "source": [
    "### Additional: Depth-First"
   ]
  },
  {
   "cell_type": "code",
   "execution_count": 8,
   "metadata": {},
   "outputs": [
    {
     "name": "stderr",
     "output_type": "stream",
     "text": [
      "7it [00:00, 988.42it/s]"
     ]
    },
    {
     "name": "stderr",
     "output_type": "stream",
     "text": [
      "\n"
     ]
    },
    {
     "name": "stdout",
     "output_type": "stream",
     "text": [
      "Solved in 7 steps (7 tiles) in 12ms\n",
      "Sets: {96, 97, 98, 99, 93, 94, 95}\n",
      "Overlappings: 51\n"
     ]
    },
    {
     "data": {
      "image/png": "[encoded data removed]",
      "text/plain": [
       "<Figure size 700x200 with 1 Axes>"
      ]
     },
     "metadata": {},
     "output_type": "display_data"
    }
   ],
   "source": [
    "frontier = deque()\n",
    "state = State(set(), set(range(NUM_SETS)))\n",
    "frontier.append(state)\n",
    "\n",
    "counter = 0\n",
    "current_state_df = frontier.pop()\n",
    "\n",
    "tic = time()\n",
    "\n",
    "with tqdm(total = None) as pbar:\n",
    "    while not goal_check(current_state_df):\n",
    "\n",
    "        counter += 1\n",
    "        \n",
    "        for action in current_state_df[1]:\n",
    "            \n",
    "            new_state = State(current_state_df.taken ^ {action},\n",
    "                              current_state_df.not_taken ^ {action})\n",
    "            frontier.append(new_state)\n",
    "            \n",
    "        current_state_df = frontier.pop()\n",
    "        pbar.update(1)\n",
    "\n",
    "toc = time()\n",
    "\n",
    "print(f'Solved in {counter} steps ({len(current_state_df.taken)} tiles) \\\n",
    "in {(toc - tic)*1000:.0f}ms')\n",
    "print(f'Sets: {current_state_df.taken}')\n",
    "print(f'Overlappings: {count_overlappings(current_state_df)}')\n",
    "\n",
    "visualize_state(current_state_df, 'Depth-First')"
   ]
  },
  {
   "cell_type": "markdown",
   "metadata": {},
   "source": [
    "### Additional: Greedy Best-First"
   ]
  },
  {
   "cell_type": "code",
   "execution_count": 9,
   "metadata": {},
   "outputs": [
    {
     "name": "stderr",
     "output_type": "stream",
     "text": [
      "3it [00:00, 299.96it/s]\n"
     ]
    },
    {
     "name": "stdout",
     "output_type": "stream",
     "text": [
      "Solved in 3 steps (3 tiles) in 14ms\n",
      "Sets: {0, 2, 82}\n",
      "Overlappings: 17\n"
     ]
    },
    {
     "data": {
      "image/png": "[encoded data removed]",
      "text/plain": [
       "<Figure size 700x200 with 1 Axes>"
      ]
     },
     "metadata": {},
     "output_type": "display_data"
    }
   ],
   "source": [
    "frontier = PriorityQueue()\n",
    "state = State(set(), set(range(NUM_SETS)))\n",
    "frontier.put((naive_distance(state), state))\n",
    "\n",
    "counter = 0\n",
    "_, current_state_gbf = frontier.get()\n",
    "\n",
    "tic = time()\n",
    "\n",
    "with tqdm(total = None) as pbar:\n",
    "    while not goal_check(current_state_gbf):\n",
    "        \n",
    "        counter += 1\n",
    "        \n",
    "        for action in current_state_gbf[1]:\n",
    "            \n",
    "            new_state = State(\n",
    "                current_state_gbf.taken ^ {action},\n",
    "                current_state_gbf.not_taken ^ {action})\n",
    "            frontier.put((naive_distance(new_state), new_state))\n",
    "        \n",
    "        _, current_state_gbf = frontier.get()\n",
    "        pbar.update(1)\n",
    "\n",
    "toc = time()\n",
    "\n",
    "print(f'Solved in {counter} steps ({len(current_state_gbf.taken)} tiles) \\\n",
    "in {(toc - tic)*1000:.0f}ms')\n",
    "print(f'Sets: {current_state_gbf.taken}')\n",
    "print(f'Overlappings: {count_overlappings(current_state_gbf)}')\n",
    "\n",
    "visualize_state(current_state_gbf, 'Greedy Best-First')"
   ]
  }
 ],
 "metadata": {
  "kernelspec": {
   "display_name": "venv",
   "language": "python",
   "name": "python3"
  },
  "language_info": {
   "codemirror_mode": {
    "name": "ipython",
    "version": 3
   },
   "file_extension": ".py",
   "mimetype": "text/x-python",
   "name": "python",
   "nbconvert_exporter": "python",
   "pygments_lexer": "ipython3",
   "version": "3.10.11"
  }
 },
 "nbformat": 4,
 "nbformat_minor": 2
}
