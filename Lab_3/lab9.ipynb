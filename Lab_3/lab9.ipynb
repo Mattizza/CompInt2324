{
 "cells": [
  {
   "cell_type": "markdown",
   "metadata": {},
   "source": [
    "Copyright **`(c)`** 2023 Giovanni Squillero `<giovanni.squillero@polito.it>`  \n",
    "[`https://github.com/squillero/computational-intelligence`](https://github.com/squillero/computational-intelligence)  \n",
    "Free for personal or classroom use; see [`LICENSE.md`](https://github.com/squillero/computational-intelligence/blob/master/LICENSE.md) for details.  "
   ]
  },
  {
   "cell_type": "markdown",
   "metadata": {},
   "source": [
    "# LAB9\n",
    "\n",
    "Write a local-search algorithm (eg. an EA) able to solve the *Problem* instances 1, 2, 5, and 10 on a 1000-loci genomes, using a minimum number of fitness calls. That's all.\n",
    "\n",
    "### Deadlines:\n",
    "\n",
    "* Submission: Sunday, December 3 ([CET](https://www.timeanddate.com/time/zones/cet))\n",
    "* Reviews: Sunday, December 10 ([CET](https://www.timeanddate.com/time/zones/cet))\n",
    "\n",
    "Notes:\n",
    "\n",
    "* Reviews will be assigned  on Monday, December 4\n",
    "* You need to commit in order to be selected as a reviewer (ie. better to commit an empty work than not to commit)"
   ]
  },
  {
   "cell_type": "code",
   "execution_count": 1,
   "metadata": {},
   "outputs": [],
   "source": [
    "from random import choices, seed, choices\n",
    "\n",
    "import lab9_lib\n",
    "import numpy as np\n",
    "import copy"
   ]
  },
  {
   "cell_type": "code",
   "execution_count": 2,
   "metadata": {},
   "outputs": [
    {
     "name": "stdout",
     "output_type": "stream",
     "text": [
      "11011011010101010010101000100110011100101010001111: 25.60%\n",
      "00111001111001000001000100000001101010001000100010: 18.60%\n",
      "10110000110000110000110001111011010110001110000100: 44.00%\n",
      "00111100000000010100011111111101010111000000011101: 30.40%\n",
      "10010110100010111000001011011011001100101001000101: 24.00%\n",
      "10111111001110011111001100011111011000001111011111: 30.80%\n",
      "10100001010100000101001000001010010110100011111101: 20.00%\n",
      "10000101010001010111001101011011111001010100111011: 32.00%\n",
      "10011011110000001100000010101000011000110010001000: 22.80%\n",
      "10011111001101000111001101110010101000110110111011: 27.20%\n",
      "10\n"
     ]
    }
   ],
   "source": [
    "fitness = lab9_lib.make_problem(2)\n",
    "for n in range(10):\n",
    "    ind = choices([0, 1], k=50)\n",
    "    print(f\"{''.join(str(g) for g in ind)}: {fitness(ind):.2%}\")\n",
    "\n",
    "print(fitness.calls)"
   ]
  },
  {
   "cell_type": "markdown",
   "metadata": {},
   "source": [
    "# Ideas"
   ]
  },
  {
   "cell_type": "markdown",
   "metadata": {},
   "source": [
    "## Tricks and ideas\n",
    "\n",
    "- Save configurations + fitness in a dictionary to avoid repetitions\n",
    "- Create a CNN+FC to, first extract the genome information (necessary spatial information) and then predict the associated fitness\n",
    "\n",
    "\n",
    "## Island\n",
    "\n",
    "- Generate K islands, evolve them independently and, each N mutations, let one individual from each travel to others (one individual can travel to multiple islands?). How to choose the individual?\n",
    "\n",
    "\n",
    "## Mutation\n",
    "\n",
    "- Change the bit with a given probability. How many bits to mutate?\n",
    "\n",
    "\n",
    "## Save the best\n",
    "\n",
    "- Elitism: copy the champion into the offsprings without modifications\n",
    "- Valhalla: keep the best apart and, from time to time, put them back in the population\n",
    "\n",
    "\n",
    "## Recombination\n",
    "\n",
    "- Implement one cuts/two cuts/n cuts\n",
    "- Do it choosing the idx through a Gaussian\n",
    "\n",
    "\n",
    "## Parent selection (semi stochastic)\n",
    "\n",
    "- Try roulette (linearized proportional to fitness, trouble with big populations)\n",
    "- Try tournament (increase size to increase pressure)\n",
    "\n",
    "\n",
    "## Survival selection (fully deterministic)\n",
    "\n",
    "- Filter only the top K fittest individuals"
   ]
  },
  {
   "cell_type": "markdown",
   "metadata": {},
   "source": [
    "## Tricks and ideas\n",
    "\n",
    "- Save configurations + fitness in a dictionary to avoid repetitions\n",
    "- Create a CNN+FC to, first extract the genome information (necessary spatial information) and then predict the associated fitness\n",
    "\n",
    "\n",
    "## Island\n",
    "\n",
    "- Generate K islands, evolve them independently and, each N mutations, let one individual from each travel to others (one individual can travel to multiple islands?). How to choose the individual?\n",
    "\n",
    "\n",
    "## Mutation\n",
    "\n",
    "- Change the bit with a given probability. How many bits to mutate?\n",
    "\n",
    "\n",
    "## Save the best\n",
    "\n",
    "- Elitism: copy the champion into the offsprings without modifications\n",
    "- Valhalla: keep the best apart and, from time to time, put them back in the population\n",
    "\n",
    "\n",
    "## Recombination\n",
    "\n",
    "- Implement one cuts/two cuts/n cuts\n",
    "\n",
    "\n",
    "## Parent selection (semi stochastic)\n",
    "\n",
    "- Try roulette (linearized proportional to fitness, trouble with big populations)\n",
    "- Try tournament (increase size to increase pressure)\n",
    "\n",
    "\n",
    "## Survival selection (fully deterministic)\n",
    "\n",
    "- Filter only the top K fittest individuals"
   ]
  },
  {
   "cell_type": "markdown",
   "metadata": {},
   "source": [
    "# Our Solution"
   ]
  },
  {
   "cell_type": "code",
   "execution_count": 17,
   "metadata": {},
   "outputs": [
    {
     "name": "stdout",
     "output_type": "stream",
     "text": [
      "1000111000: 29.00%\n",
      "0100110110: 28.00%\n",
      "1100100011: 28.00%\n",
      "1111011111: 46.00%\n",
      "1000000010: 20.00%\n",
      "0001110100: 29.00%\n",
      "1111110000: 60.00%\n",
      "0110101000: 29.00%\n",
      "1011001100: 28.00%\n",
      "0110001111: 60.00%\n",
      "10\n"
     ]
    }
   ],
   "source": [
    "fitness = lab9_lib.make_problem(2)\n",
    "seed(42)\n",
    "\n",
    "for n in range(10):\n",
    "    ind = choices([0, 1], k=10)\n",
    "    print(f\"{''.join(str(g) for g in ind)}: {fitness(ind):.2%}\")\n",
    "\n",
    "print(fitness.calls)"
   ]
  },
  {
   "cell_type": "markdown",
   "metadata": {},
   "source": [
    "## V1.0"
   ]
  },
  {
   "cell_type": "code",
   "execution_count": 18,
   "metadata": {},
   "outputs": [],
   "source": [
    "def mutate_bit(individual : list) -> list:\n",
    "    \n",
    "    idx = np.random.randint(0, len(individual))\n",
    "    mutated_individual = copy.deepcopy(individual)\n",
    "    mutated_individual[idx] = int(not(bool(mutated_individual[idx])))\n",
    "    return mutated_individual\n",
    "\n",
    "\n",
    "def roulette_selection(top_k : int, individuals : list, fitness : np.ndarray) -> list:\n",
    "\n",
    "    # Select top K fittest individuals and return N_OFFSPRINGS couple of individuals.\n",
    "    parents = choices(individuals, weights=np.array(fitness)/sum(fitness), k=top_k)\n",
    "    return choices([(parent1, parent2) for i, parent1 in enumerate(parents) for j, parent2 in enumerate(parents) if i != j], k=N_OFFSPRINGS)\n",
    "\n",
    "\n",
    "def one_cut_xover(couple : tuple) -> list:\n",
    "\n",
    "    idx = np.random.randint(1, len(couple[0]) - 1)\n",
    "    return couple[0][:idx] + couple[1][idx:]"
   ]
  },
  {
   "cell_type": "code",
   "execution_count": 20,
   "metadata": {},
   "outputs": [],
   "source": [
    "POP_SIZE = 100          # Number of parents\n",
    "N_OFFSPRINGS = 300      # Number of children\n",
    "N_GENERATIONS = 10000   # Number of generations\n",
    "TOP_K = 30              # Number of parents from which generating the offsprings\n",
    "\n",
    "italy = []\n",
    "for _ in range(POP_SIZE):\n",
    "    italy.append(choices([0, 1], k=30))\n",
    "        "
   ]
  },
  {
   "cell_type": "code",
   "execution_count": 23,
   "metadata": {},
   "outputs": [
    {
     "name": "stdout",
     "output_type": "stream",
     "text": [
      "0\n",
      "1\n",
      "2\n",
      "3\n",
      "4\n",
      "5\n",
      "6\n",
      "7\n",
      "8\n",
      "9\n",
      "10\n",
      "11\n"
     ]
    }
   ],
   "source": [
    "parents = roulette_selection(TOP_K, italy, [fitness(ind) for ind in italy])\n",
    "\n",
    "for _ in range(N_GENERATIONS):\n",
    "    \n",
    "    recombinated_offsprings = map(one_cut_xover, parents)\n",
    "    mutated_offsprings = np.array(list(map(mutate_bit, recombinated_offsprings)))\n",
    "    fit = np.array(list(map(fitness, mutated_offsprings)))\n",
    "    survived = mutated_offsprings[np.argsort(fit) < POP_SIZE]\n",
    "    if (fit > 0.85).any():\n",
    "        break\n",
    "    print(_)"
   ]
  },
  {
   "cell_type": "code",
   "execution_count": 46,
   "metadata": {},
   "outputs": [
    {
     "name": "stdout",
     "output_type": "stream",
     "text": [
      "111001110111111000111111111111: 80.00%\n",
      "010010001110101111111101011001: 60.00%\n",
      "001011110111101111001001100101: 60.00%\n",
      "000010111111100111111111000100: 60.00%\n",
      "101001010011101110011111110100: 60.00%\n",
      "011001111111001001010110101011: 60.00%\n",
      "001001101101100111110100001011: 53.33%\n",
      "100010111100010101101111001100: 53.33%\n",
      "001011110101101001110010000111: 53.33%\n",
      "100010111101110110110101100000: 53.33%\n",
      "001001011001111110000001011010: 46.67%\n",
      "111110001001000100110011100001: 46.67%\n",
      "100010111011111010101011011010: 41.67%\n",
      "011110001001000010110100000011: 40.00%\n",
      "111111110101111000111111111111: 39.33%\n",
      "110100010001010101111111011100: 38.33%\n",
      "111100011010101010101011011110: 38.00%\n",
      "110100010001010101111111111011: 37.67%\n",
      "111111011101001000010111011111: 37.33%\n",
      "000010111110100111111111111010: 37.33%\n",
      "011001111111011001111111111100: 36.67%\n",
      "001011110011111000111111111111: 36.67%\n",
      "111100111111100101111111110100: 36.67%\n",
      "110100010001010101111111001100: 35.00%\n",
      "101011111110100010111100000011: 34.67%\n",
      "100010001110101111111100011010: 34.67%\n",
      "010111110100010101110010011110: 34.67%\n",
      "111100011001101010101011011110: 34.33%\n",
      "111111010100010101110010011110: 34.33%\n",
      "001110111111101110000110101001: 34.33%\n",
      "111100011011011110101011011010: 34.00%\n",
      "111101011011101111001001110101: 33.67%\n",
      "111001011110000111000111111111: 33.67%\n",
      "111001101101100111110110011111: 33.33%\n",
      "001010010111111000111111111111: 33.33%\n",
      "000110110111111000111101111111: 33.33%\n",
      "110100010101010100110101000000: 32.67%\n",
      "100100010001010101111111000100: 32.00%\n",
      "001111010101001001010111010010: 31.67%\n",
      "010001010001111110100001010111: 31.67%\n",
      "111001011111010111000100011000: 31.33%\n",
      "111001011110010111000101011000: 31.33%\n",
      "110100010011010100101110010111: 31.33%\n",
      "101101010001111110000001010111: 31.33%\n",
      "100001111111001100110001110101: 31.00%\n",
      "001000001110101111111101011010: 31.00%\n",
      "010011111001111000101011011010: 31.00%\n",
      "111100001011101010101011010101: 31.00%\n",
      "111001101101100111110100010001: 31.00%\n",
      "101111010100010101110010011110: 31.00%\n",
      "111101011011101010101000000111: 31.00%\n",
      "111001011100010101110010011110: 31.00%\n",
      "100011101111001010111100000111: 31.00%\n",
      "001011110110010111010100011011: 31.00%\n",
      "011100011111011001010110101001: 31.00%\n",
      "100010111111101111001001110100: 30.67%\n",
      "011001010001111110111111001100: 30.67%\n",
      "110110111111001011011110001000: 30.67%\n",
      "101011101101010101111111001100: 30.33%\n",
      "001111111111101111001001011000: 30.33%\n",
      "011001111111011001010110111010: 30.33%\n",
      "111101001110110101110010011110: 30.33%\n",
      "010011110111111000111101011010: 30.33%\n",
      "110111010101000100000110011000: 28.67%\n",
      "001011010001111110000001010101: 28.33%\n",
      "011110001001000101110001100101: 28.33%\n",
      "100011101111000010111000000011: 28.33%\n",
      "011001111111011001110100000000: 28.00%\n",
      "000010000111010101111111001100: 28.00%\n",
      "001011010100000111111110110100: 27.67%\n",
      "001010110111000011011110001011: 27.67%\n",
      "001011110110010111011110000001: 27.67%\n",
      "111100011011000100100110010111: 27.67%\n",
      "001010110111101111001001110001: 27.33%\n",
      "011001110010110010100101011111: 27.33%\n",
      "111110101001011001111010010100: 27.33%\n",
      "011011110111101100001110011000: 27.33%\n",
      "011100011100010100000110011000: 25.33%\n",
      "110100010001010101111010001000: 25.00%\n",
      "101000010011101100011110001000: 25.00%\n",
      "000110100010110110111100000011: 24.67%\n",
      "011110011001000101110000011010: 24.67%\n",
      "011110001011010111000100011010: 24.33%\n",
      "000010011111101001111010010100: 24.33%\n",
      "000110111011101001110000000111: 24.33%\n",
      "010011111010010111011010001000: 24.33%\n",
      "001011010111100010111100000011: 24.33%\n",
      "101001010001111110000001011011: 24.33%\n",
      "000110100010110010100000000111: 22.00%\n",
      "110000111100010100000110011000: 21.67%\n",
      "011110001001000101110000010010: 21.67%\n",
      "010011011001101001110000001010: 21.33%\n",
      "000110100100010101110010001110: 21.33%\n",
      "010010111100010100100110011000: 21.33%\n",
      "001011111100010100000110011000: 21.33%\n",
      "000110100010110000010111011010: 21.33%\n",
      "001010111100010100010110011000: 21.33%\n",
      "111001100101100100000110011000: 21.33%\n",
      "000001111111001110110001000000: 21.33%\n",
      "001001000001111110000001010000: 18.67%\n"
     ]
    }
   ],
   "source": [
    "survived_fitness = list(map(fitness, survived))\n",
    "ordered_survived = [_ for _, x in sorted(zip(survived, survived_fitness), key=lambda pair: pair[1], reverse=True)]\n",
    "\n",
    "for sur in ordered_survived:\n",
    "    print(f\"{''.join(str(g) for g in sur)}: {fitness(sur):.2%}\")"
   ]
  },
  {
   "cell_type": "markdown",
   "metadata": {},
   "source": [
    "## V2.0"
   ]
  },
  {
   "cell_type": "code",
   "execution_count": null,
   "metadata": {},
   "outputs": [],
   "source": [
    "N_ISLANDS = 5           # Number of different populations\n",
    "POP_SIZE = 100          # Number of parents\n",
    "N_OFFSPRINGS = 300      # Number of children\n",
    "N_GENERATIONS = 10000   # Number of generations\n",
    "TOP_K = 30              # Number of parents from which generating the offsprings\n",
    "\n",
    "\n",
    "globe = {f'island{k}' : [] for k in range(N_ISLANDS)}\n",
    "\n",
    "for n in range(N_ISLANDS):\n",
    "    for _ in range(POP_SIZE):\n",
    "        globe[f'island{n}'].append(choices([0, 1], k=30))\n",
    "        \n",
    "italy = globe['island0']"
   ]
  },
  {
   "cell_type": "code",
   "execution_count": null,
   "metadata": {},
   "outputs": [],
   "source": [
    "def mutate_bits(individual : list) -> list:\n",
    "    '''\n",
    "    Mutate every bit with a given probability\n",
    "    '''\n",
    "    # TODO\n",
    "    idx = np.random.randint(0, len(individual), size = len(individual))\n",
    "    mutated_individual = copy.deepcopy(individual)\n",
    "    np.random.random(size = len(individual))\n",
    "    if np.random.random() < 0.9:\n",
    "        mutated_individual[idx] = int(not(bool(mutated_individual[idx])))\n",
    "    return mutated_individual\n"
   ]
  }
 ],
 "metadata": {
  "kernelspec": {
   "display_name": "ci-fLJ3OwGs-py3.12",
   "language": "python",
   "name": "python3"
  },
  "language_info": {
   "codemirror_mode": {
    "name": "ipython",
    "version": 3
   },
   "file_extension": ".py",
   "mimetype": "text/x-python",
   "name": "python",
   "nbconvert_exporter": "python",
   "pygments_lexer": "ipython3",
   "version": "3.10.11"
  }
 },
 "nbformat": 4,
 "nbformat_minor": 2
}
