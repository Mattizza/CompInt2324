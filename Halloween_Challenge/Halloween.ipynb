{
 "cells": [
  {
   "cell_type": "markdown",
   "id": "185f9931-b384-4fdc-a5b2-eea785428bb8",
   "metadata": {},
   "source": [
    "Copyright **`(c)`** 2023 Giovanni Squillero `<giovanni.squillero@polito.it>`  \n",
    "[`https://github.com/squillero/computational-intelligence`](https://github.com/squillero/computational-intelligence)  \n",
    "Free for personal or classroom use; see [`LICENSE.md`](https://github.com/squillero/computational-intelligence/blob/master/LICENSE.md) for details.  "
   ]
  },
  {
   "cell_type": "code",
   "execution_count": 4,
   "id": "3ffe7245-e849-41d0-9698-5f0e0b83fee9",
   "metadata": {},
   "outputs": [],
   "source": [
    "from itertools import product\n",
    "from random import random, randint, shuffle, seed, choice\n",
    "import numpy as np\n",
    "from scipy import sparse"
   ]
  },
  {
   "cell_type": "code",
   "execution_count": 5,
   "id": "6f03bd67-78a0-4d72-95b7-77a918727b91",
   "metadata": {},
   "outputs": [],
   "source": [
    "def make_set_covering_problem(num_points, num_sets, density):\n",
    "    \"\"\"Returns a sparse array where rows are sets and columns are the covered items\"\"\"\n",
    "    seed(num_points * 2654435761 + num_sets + density)\n",
    "    sets = sparse.lil_array((num_sets, num_points), dtype = bool)\n",
    "    for s, p in product(range(num_sets), range(num_points)):\n",
    "        if random() < density:\n",
    "            sets[s, p] = True\n",
    "    for p in range(num_points):\n",
    "        sets[randint(0, num_sets - 1), p] = True\n",
    "    return sets"
   ]
  },
  {
   "cell_type": "markdown",
   "id": "82b0be37-21d9-492d-9a1d-cf0cdf0ddd76",
   "metadata": {},
   "source": [
    "# Halloween Challenge\n",
    "\n",
    "Find the best solution with the fewest calls to the fitness functions for:\n",
    "\n",
    "* `num_points = [100, 1_000, 5_000]`\n",
    "* `num_sets = num_points`\n",
    "* `density = [.3, .7]` "
   ]
  },
  {
   "cell_type": "code",
   "execution_count": 83,
   "id": "221ffdba-5d3d-48cc-bd08-45ccc9366ea6",
   "metadata": {},
   "outputs": [
    {
     "name": "stdout",
     "output_type": "stream",
     "text": [
      "Element at row=42 and column=42: True\n"
     ]
    }
   ],
   "source": [
    "x = make_set_covering_problem(100, 100, .3)\n",
    "print(\"Element at row=42 and column=42:\", x[42, 42])"
   ]
  },
  {
   "cell_type": "markdown",
   "id": "9963ab46",
   "metadata": {},
   "source": [
    "# Our Solution"
   ]
  },
  {
   "cell_type": "markdown",
   "id": "ccf94928",
   "metadata": {},
   "source": [
    "# Set up"
   ]
  },
  {
   "cell_type": "code",
   "execution_count": 84,
   "id": "d6a3eac4",
   "metadata": {},
   "outputs": [],
   "source": [
    "import numpy as np\n",
    "\n",
    "from itertools import product\n",
    "from random import random, randint, shuffle, seed, sample\n",
    "from scipy import sparse\n",
    "from copy import copy\n",
    "from functools import reduce"
   ]
  },
  {
   "cell_type": "code",
   "execution_count": 85,
   "id": "259fefbf",
   "metadata": {},
   "outputs": [],
   "source": [
    "def make_set_covering_problem(num_points, num_sets, density):\n",
    "    \"\"\"Returns a sparse array where rows are sets and columns are the covered items\"\"\"\n",
    "    seed(num_points * 2654435761 + num_sets + density)\n",
    "    sets = sparse.lil_array((num_sets, num_points), dtype = bool)\n",
    "    for s, p in product(range(num_sets), range(num_points)):\n",
    "        if random() < density:\n",
    "            sets[s, p] = True\n",
    "    for p in range(num_points):\n",
    "        sets[randint(0, num_sets - 1), p] = True\n",
    "    return sets"
   ]
  },
  {
   "cell_type": "code",
   "execution_count": 86,
   "id": "01ac419a",
   "metadata": {},
   "outputs": [
    {
     "name": "stdout",
     "output_type": "stream",
     "text": [
      "Element at row=42 and column=42: True\n"
     ]
    }
   ],
   "source": [
    "n = 5000\n",
    "PROBLEM_SIZE = NUM_SETS = n\n",
    "x = make_set_covering_problem(n, n, .3)\n",
    "\n",
    "SETS = x.toarray()\n",
    "print(\"Element at row=42 and column=42:\", x[42, 42])"
   ]
  },
  {
   "cell_type": "code",
   "execution_count": 87,
   "id": "dd41b957",
   "metadata": {},
   "outputs": [],
   "source": [
    "# create 10 random initial states to start the search from \n",
    "\n",
    "def make_random_initial_state(PROBLEM_SIZE):\n",
    "    \"\"\"Returns a random initial state\"\"\"\n",
    "    return [choice([True,False]) for _ in range(PROBLEM_SIZE)] \n",
    "\n",
    "\n",
    "def make_random_initial_states(PROBLEM_SIZE, NUM_INITIAL_STATES):\n",
    "    \"\"\"Returns a list of random initial states\"\"\"\n",
    "    return [make_random_initial_state(PROBLEM_SIZE=PROBLEM_SIZE) for _ in range(NUM_INITIAL_STATES)]\n",
    "\n",
    "# create a random initial states\n",
    "NUM_INITIAL_STATES = 10\n",
    "initial_states = make_random_initial_states(PROBLEM_SIZE, NUM_INITIAL_STATES)\n"
   ]
  },
  {
   "cell_type": "markdown",
   "id": "4fe352f1",
   "metadata": {},
   "source": [
    "## Baseline"
   ]
  },
  {
   "cell_type": "code",
   "execution_count": 88,
   "id": "70669d36",
   "metadata": {},
   "outputs": [],
   "source": [
    "def tweak(state):\n",
    "    new_state = copy(state)\n",
    "    index = randint(0, PROBLEM_SIZE - 1)\n",
    "    new_state[index] = not new_state[index]\n",
    "    return new_state\n",
    "\n",
    "def fitness2(state):\n",
    "    cost = sum(state)\n",
    "    valid = np.sum(\n",
    "        reduce(\n",
    "            np.logical_or,\n",
    "            [SETS[i] for i, t in enumerate(state) if t],\n",
    "            np.array([False for _ in range(PROBLEM_SIZE)]),\n",
    "        )\n",
    "    )\n",
    "    return valid, -cost"
   ]
  },
  {
   "cell_type": "code",
   "execution_count": 93,
   "id": "6e03ebcf",
   "metadata": {},
   "outputs": [
    {
     "name": "stdout",
     "output_type": "stream",
     "text": [
      "[False, False, False, False, False, False, False, False, False, False, False, False, False, False, False, False, False, False, False, False, False, False, False, False, False, False, False, False, False, False, False, False, False, False, False, False, False, False, False, False, False, False, False, False, False, False, False, False, False, False, False, False, False, False, False, False, False, False, False, False, False, False, False, False, False, False, False, False, False, False, False, False, False, False, False, False, False, False, False, False, False, False, False, False, False, False, False, False, False, False, False, False, False, False, False, False, False, False, False, False, False, False, False, False, False, False, False, False, False, False, False, False, False, False, False, False, False, False, False, False, False, False, False, False, False, False, False, False, False, False, False, False, False, False, False, False, False, False, False, False, False, False, False, False, False, False, False, False, False, False, False, False, False, False, False, False, False, False, False, False, False, False, False, False, False, False, False, False, False, False, False, False, False, False, False, False, False, False, False, False, False, False, False, False, False, False, False, False, False, False, False, False, False, False, False, False, False, False, False, False, False, False, False, False, False, False, False, False, False, False, False, False, False, False, False, False, False, False, False, False, False, False, False, False, False, False, False, False, False, False, False, False, False, False, False, False, False, False, False, False, False, False, False, False, False, False, False, False, False, False, False, False, False, False, False, False, False, False, False, False, False, False, False, False, False, False, False, False, False, False, False, False, False, False, False, False, False, False, False, False, False, False, False, False, False, False, False, False, False, False, False, False, False, False, False, False, False, False, False, False, False, False, False, False, False, False, False, False, False, False, False, False, False, False, False, False, False, False, False, False, False, False, False, False, False, False, False, False, False, False, False, False, False, False, False, False, False, False, False, False, False, False, False, False, False, False, False, False, False, False, False, False, False, False, False, False, False, False, False, False, False, False, False, False, False, False, False, False, False, False, False, False, False, False, False, False, False, False, False, False, False, False, False, False, False, False, False, False, False, False, False, False, False, False, False, False, False, False, False, False, False, False, False, False, False, False, False, False, False, False, False, False, False, False, False, False, False, False, False, False, False, False, False, False, False, False, False, False, False, False, False, False, False, False, False, False, False, False, False, False, False, False, False, False, False, False, False, False, False, False, False, False, False, False, False, False, False, False, False, False, False, False, False, False, False, False, False, False, False, False, False, False, False, False, False, False, False, False, False, False, False, False, False, False, False, False, False, False, False, False, False, False, False, False, False, False, False, False, False, False, False, False, False, False, False, False, False, False, False, False, False, False, False, False, False, False, False, False, False, False, False, False, False, False, False, False, False, False, False, False, False, False, False, False, False, False, False, False, False, False, False, False, False, False, False, False, False, False, False, False, False, False, False, False, False, False, False, False, False, False, False, False, False, False, False, False, False, False, False, False, False, False, False, False, False, False, False, False, False, False, False, False, False, False, False, False, False, False, False, False, False, False, False, False, False, False, False, False, False, False, False, False, False, False, False, False, False, False, False, False, False, False, False, False, False, False, False, False, False, False, False, False, False, False, False, False, False, False, False, False, False, False, False, False, False, False, False, False, False, False, False, False, False, False, False, False, False, False, False, False, False, False, False, False, False, False, False, False, False, False, False, False, False, False, False, False, False, False, False, False, False, False, False, False, False, False, False, False, False, False, False, False, False, False, False, False, False, False, False, False, False, False, False, False, False, False, False, False, False, False, False, False, False, False, False, False, False, False, False, False, False, False, False, False, False, False, False, False, False, False, False, False, False, False, False, False, False, False, False, False, False, False, False, False, False, False, False, False, False, False, False, False, False, False, False, False, False, False, False, False, False, False, False, False, False, False, False, False, False, False, False, False, False, False, False, False, False, False, False, False, False, False, False, False, False, False, False, False, False, False, False, False, False, False, False, False, False, False, False, False, False, False, False, False, False, False, False, False, False, False, False, False, False, False, False, False, False, False, False, False, False, False, False, False, False, False, False, False, False, False, False, False, False, False, False, False, False, False, False, False, False, False, False, False, False, False, False, False, False, False, False, False, False, False, False, False, False, False, False, False, False, False, False, False, False, False, False, False, False, False, False, False, False, False, False, False, False, False, False, False, False, False, False, False, False, False, False, False, False, False, False, False, False, False, False, False, False, False, False, False, False, False, False, False, False, False, False, False, False, False, False, False, False, False, False, False, False, False, False, False, False, False, False, False, False, False, False, False, False, False, False, False, False, False, False, False, False, False, False, False, False, False, False, False, False, False, False, False, False, False, False, False, False, False, False, False, False, False, False, False, False, False, False, False, False, False, False, False, False, False, False, False, False, False, False, False, False, False, False, False, False, False, False, False, False, False, False, False, False, False, False, False, False, False, False, False, False, False, False, False, False, False, False, False, False, False, False, False, False, False, False, False, False, False, False, False, False, False, False, False, False, False, False, False, False, False, False, False, False, False, False, False, False, False, False, False, False, False, False, False, False, False, False, False, False, False, False, False, False, False, False, False, False, False, False, False, False, False, False, False, False, False, False, False, False, False, False, False, False, False, False, False, False, False, False, False, False, False, False, False, False, False, False, False, False, False, False, False, False, False, False, False, False, False, False, False, False, False, False, False, False, False, False, False, False, False, False, False, False, False, False, False, False, False, False, False, False, False, False, False, False, False, False, False, False, False, False, False, False, False, False, False, False, False, False, False, False, False, False, False, False, False, False, False, False, False, False, False, False, False, False, False, False, False, False, False, False, False, False, False, False, False, False, False, False, False, False, False, False, False, False, False, False, False, False, False, False, False, False, False, False, False, False, False, False, False, False, False, False, False, False, False, False, False, False, False, False, False, False, False, False, False, False, False, False, False, False, False, False, False, False, False, False, False, False, False, False, False, False, False, False, False, False, False, False, False, False, False, False, False, False, False, False, False, False, False, False, False, False, False, False, False, False, False, False, False, False, False, False, False, False, False, False, False, False, False, False, False, False, False, False, False, False, False, False, False, False, False, False, False, False, False, False, False, False, False, False, False, False, False, False, False, False, False, False, False, False, False, False, False, False, False, False, False, False, False, False, False, False, False, False, False, False, False, False, False, False, False, False, False, False, False, False, False, False, False, False, False, False, False, False, False, False, False, False, False, False, False, False, False, False, False, False, False, False, False, False, False, False, False, False, False, False, False, False, False, False, False, False, False, False, False, False, False, False, False, False, False, False, False, False, False, False, False, False, False, False, False, False, False, False, False, False, False, False, False, False, False, False, False, False, False, False, False, False, False, False, False, False, False, False, False, False, False, False, False, False, False, False, False, False, False, False, False, False, False, False, False, False, False, False, False, False, False, False, False, False, False, False, False, False, False, False, False, False, False, False, False, False, False, False, False, False, False, False, False, False, False, False, False, False, False, False, False, False, False, False, False, False, False, False, False, False, False, False, False, False, False, False, False, False, False, False, False, False, False, False, False, False, False, False, False, False, False, False, False, False, False, False, False, False, False, False, False, False, False, False, False, False, False, False, False, False, False, False, False, False, False, False, False, False, False, False, False, False, False, False, False, False, False, False, False, False, False, False, False, False, False, False, False, False, False, False, False, False, False, False, False, False, False, False, False, False, False, False, False, False, False, False, False, False, False, False, False, False, False, False, False, False, False, False, False, False, False, False, False, False, False, False, False, False, False, False, False, False, False, False, False, False, False, False, False, False, False, False, False, False, False, False, False, False, False, False, False, False, False, False, False, False, False, False, False, False, False, False, False, False, False, False, False, False, False, False, False, False, False, False, False, False, False, False, False, False, False, False, False, False, False, False, False, False, False, False, False, False, False, False, False, False, False, False, False, False, False, False, False, False, False, False, False, False, False, False, False, False, False, False, False, False, False, False, False, False, False, False, False, False, False, False, False, False, False, False, False, False, False, False, False, False, False, False, False, False, False, False, False, False, False, False, False, False, False, False, False, False, False, False, False, False, False, False, False, False, False, False, False, False, False, False, False, False, False, False, False, False, False, False, False, False, False, False, False, False, False, False, False, False, False, False, False, False, False, False, False, False, False, False, False, False, False, False, False, False, False, False, False, False, False, False, False, False, False, False, False, False, False, False, False, False, False, False, False, False, False, False, False, False, False, False, False, False, False, False, False, False, False, False, False, False, False, False, False, False, False, False, False, False, False, False, False, False, False, False, False, False, False, False, False, False, False, False, False, False, False, False, False, False, False, False, False, False, False, False, False, False, False, False, False, False, False, False, False, False, False, False, False, False, False, False, False, False, False, False, False, False, False, False, False, False, False, False, False, False, False, False, False, False, False, False, False, False, False, False, False, False, False, False, False, False, False, False, False, False, False, False, False, False, False, False, False, False, False, False, False, False, False, False, False, False, False, False, False, False, False, False, False, False, False, False, False, False, False, False, False, False, False, False, False, False, False, False, False, False, False, False, False, False, False, False, False, False, False, False, False, False, False, False, False, False, False, False, False, False, False, False, False, False, False, False, False, False, False, False, False, False, False, False, False, False, False, False, False, False, False, False, False, False, False, False, False, False, False, False, False, False, False, False, False, False, False, False, False, False, False, False, False, False, False, False, False, False, False, False, False, False, False, False, False, False, False, False, False, False, False, False, False, False, False, False, False, False, False, False, False, False, False, False, False, False, False, False, False, False, False, False, False, False, False, False, False, False, False, False, False, False, False, False, False, False, False, False, False, False, False, False, False, False, False, False, False, False, False, False, False, False, False, False, False, False, False, False, False, False, False, False, False, False, False, False, False, False, False, False, False, False, False, False, False, False, False, False, False, False, False, False, False, False, False, False, False, False, False, False, False, False, False, False, False, False, False, False, False, False, False, False, False, False, False, False, False, False, False, False, False, False, False, False, False, False, False, False, False, False, False, False, False, False, False, False, False, False, False, False, False, False, False, False, False, False, False, False, False, False, False, False, False, False, False, False, False, False, False, False, False, False, False, False, False, False, False, False, False, False, False, False, False, False, False, False, False, False, False, False, False, False, False, False, False, False, False, False, False, False, False, False, False, False, False, False, False, False, False, False, False, False, False, False, False, False, False, False, False, False, False, False, False, False, False, False, False, False, False, False, False, False, False, False, False, False, False, False, False, False, False, False, False, False, False, False, False, False, False, False, False, False, False, False, False, False, False, False, False, False, False, False, False, False, False, False, False, False, False, False, False, False, False, False, False, False, False, False, False, False, False, False, False, False, False, False, False, False, False, False, False, False, False, False, False, False, False, False, False, False, False, False, False, False, False, False, False, False, False, False, False, False, False, False, False, False, False, False, False, False, False, False, False, False, False, False, False, False, False, False, False, False, False, False, False, False, False, False, False, False, False, False, False, False, False, False, False, False, False, False, False, False, False, False, False, False, False, False, False, False, False, False, False, False, False, False, False, False, False, False, False, False, False, False, False, False, False, False, False, False, False, False, False, False, False, False, False, False, False, False, False, False, False, False, False, False, False, False, False, False, False, False, False, False, False, False, False, False, False, False, False, False, False, False, False, False, False, False, False, False, False, False, False, False, False, False, False, False, False, False, False, False, False, False, False, False, False, False, False, False, False, False, False, False, False, False, False, False, False, False, False, False, False, False, False, False, False, False, False, False, False, False, False, False, False, False, False, False, False, False, False, False, False, False, False, False, False, False, False, False, False, False, False, False, False, False, False, False, False, False, False, False, False, False, False, False, False, False, False, False, False, False, False, False, False, False, False, False, False, False, False, False, False, False, False, False, False, False, False, False, False, False, False, False, False, False, False, False, False, False, False, False, False, False, False, False, False, False, False, False, False, False, False, False, False, False, False, False, False, False, False, False, False, False, False, False, False, False, False, False, False, False, False, False, False, False, False, False, False, False, False, False, False, False, False, False, False, False, False, False, False, False, False, False, False, False, False, False, False, False, False, False, False, False, False, False, False, False, False, False, False, False, False, False, False, False, False, False, False, False, False, False, False, False, False, False, False, False, False, False, False, False, False, False, False, False, False, False, False, False, False, False, False, False, False, False, False, False, False, False, False, False, False, False, False, False, False, False, False, False, False, False, False, False, False, False, False, False, False, False, False, False, False, False, False, False, False, False, False, False, False, False, False, False, False, False, False, False, False, False, False, False, False, False, False, False, False, False, False, False, False, False, False, False, False, False, False, False, False, False, False, False, False, False, False, False, False, False, False, False, False, False, False, False, False, False, False, False, False, False, False, False, False, False, False, False, False, False, False, False, False, False, False, False, False, False, False, False, False, False, False, False, False, False, False, False, False, False, False, False, False, False, False, False, False, False, False, False, False, False, False, False, False, False, False, False, False, False, False, False, False, False, False, False, False, False, False, False, False, False, False, False, False, False, False, False, False, False, False, False, False, False, False, False, False, False, False, False, False, False, False, False, False, False, False, False, False, False, False, False, False, False, False, False, False, False, False, False, False, False, False, False, False, False, False, False, False, False, False, False, False, False, False, False, False, False, False, False, False, False, False, False, False, False, False, False, False, False, False, False, False, False, False, False, False, False, False, False, False, False, False, False, False, False, False, False, False, False, False, False, False, False, False, False, False, False, False, False, False, False, False, False, False, False, False, False, False, False, False, False, False, False, False, False, False, False, False, False, False, False, False, False, False, False, False, False, False, False, False, False, False, False, False, False, False, False, False, False, False, False, False, False, False, False, False, False, False, False, False, False, False, False, False, False, False, False, False, False, False, False, False, False, False, False, False, False, False, False, False, False, False, False, False, False, False, False, False, False, False, False, False, False, False, False, False, False, False, False, False, False, False, False, False, False, False, False, False, False, False, False, False, False, False, False, False, False, False, False, False, False, False, False, False, False, False, False, False, False, False, False, False, False, False, False, False, False, False, False, False, False, False, False, False, False, False, False, False, False, False, False, False, False, False, False, False, False, False, False, False, False, False, False, False, False, False, False, False, False, False, False, False, False, False, False, False, False, False, False, False, False, False, False, False, False, False, False, False, False, False, False, False, False, False, False, False, False, False, False, False, False, False, False, False, False, False, False, False, False, False, False, False, False, False, False, False, False, False, False, False, False, False, False, False, False, False, False, False, False, False, False, False, False, False, False, False, False, False, False, False, False, False, False, False, False, False, False, False, False, False, False, False, False, False, False, False, False, False, False, False, False, False, False, False, False, False, False, False, False, False, False, False, False, False, False, False, False, False, False, False, False, False, False, False, False, False, False, False, False, False, False, False, False, False, False, False, False, False, False, False, False, False, False, False, False, False, False, False, False, False, False, False, False, False, False, False, False, False, False, False, False, False, False, False, False, False, False, False, False, False, False, False, False, False, False, False, False, False, False, False, False, False, False, False, False, False, False, False, False, False, False, False, False, False, False, False, False, False, False, False, False, False, False, False, False, False, False, False, False, False, False, False, False, False, False, False, False, False, False, False, False, False, False, False, False, False, False, False, False, False, False, False, False, False, False, False, False, False, False, False, False, False, False, False, False, False, False, False, False, False, False, False, False, False, False, False, False, False, False, False, False, False, False, False, False, False, False, False, False, False, False, False, False, False, False, False, False, False, False, False, False, False, False, False, False, False, False, False, False, False, False, False, False, False, False, False, False, False, False, False, False, False, False, False, False, False, False, False, False, False, False, False, False, False, False, False, False, False, False, False, False, False, False, False, False, False, False, False, False, False, False, False, False, False, False, False, False, False, False, False, False, False, False, False, False, False, False, False, False, False, False, False, False, False, False, False, False, False, False, False, False, False, False, False, False, False, False, False, False, False, False, False, False, False, False, False, False, False, False, False, False, False, False, False, False, False, False, False, False, False, False, False, False, False, False, False, False, False, False, False, False, False, False, False, False, False, False, False, False, False, False, False, False, False, False, False, False, False, False, False, False, False, False, False, False, False, False, False, False, False, False, False, False, False, False, False, False, False, False, False, False, False, False, False, False, False, False, False, False, False, False, False, False, False, False, False, False, False, False, False, False, False, False, False, False, False, False, False, False, False, False, False, False, False, False, False, False, False, False, False, False, False, False, False, False, False, False, False, False, False, False, False, False, False, False, False, False, False, False, False, False, False, False, False, False, False, False, False, False, False, False, False, False, False, False, False, False, False, False, False, False, False, False, False, False, False, False, False, False, False, False, False, False, False, False, False, False, False, False, False, False, False, False, False, False, False, False, False, False, False, False, False, False, False, False, False, False, False, False, False, False, False, False, False, False, False, False, False, False, False, False, False, False, False, False, False, False, False, False, False, False, False, False, False, False, False, False, False, False, False, False, False, False, False, False, False, False, False, False, False, False, False, False, False, False, False, False, False, False, False, False, False, False, False, False, False, False, False, False, False, False, False, False, False, False, False, False, False, False, False, False, False, False, False, False, False, False, False, False, False, False, False, False, False, False, False, False, False, False, False, False, False, False, False, False, False, False, False, False, False, False, False, False, False, False, False, False, False, False, False, False, False, False, False, False, False, False, False, False, False, False, False, False, False, False, False, False, False, False, False, False, False, False, False, False, False, False, False, False, False, False, False, False, False, False, False, False, False, False, False, False, False, False, False, False, False, False, False, False, False, False, False, False, False, False, False, False, False, False, False, False, False, False, False, False, False, False, False, False, False, False, False, False, False, False, False, False, False, False, False, False, False, False, False, False, False, False, False, False, False, False, False, False, False, False, False, False, False, False, False, False, False, False, False, False, False, False, False, False, False, False, False, False, False, False, False, False, False, False, False, False, False, False, False, False, False, False, False, False, False, False, False, False, False, False, False, False, False, False, False, False, False, False, False, False, False, False, False, False, False, False, False, False, False, False, False, False, False, False, False, False, False, False, False, False, False, False, False, False, False, False, False, False, False, False, False, False, False, False, False, False, False, False, False, False, False, False, False, False, False, False, False, False, False, False, False, False, False, False, False, False, False, False, False, False, False, False, False, False, False, False, False, False, False, False, False, False, False, False, False, False, False, False, False, False, False, False, False, False, False, False, False, False, False, False, False, False, False, False, False, False, False, False, False, False, False, False, False, False, False, False, False, False, False, False, False, False, False, False, False, False, False, False, False, False, False, False, False, False, False, False, False, False, False, False, False, False, False, False, False, False, False, False, False, False, False, False, False, False, False, False, False, False, False, False, False, False, False, False, False, False, False, False, False, False, False, False, False, False, False, False, False, False, False, False, False, False, False, False, False, False, False, False, False, False, False, False, False, False, False, False, False, False, False, False, False, False, False, False, False, False, False, False, False, False, False, False, False, False, False, False, False, False, False, False, False, False, False, False, False, False, False, False, False, False, False, False, False, False, False, False, False, False, False, False, False, False, False, False, False, False, False, False, False, False, False, False, False, False, False, False, False, False, False, False, False, False, False, False, False, False, False, False, False, False, False, False, False, False, False, False, False, False, False, False, False, False, False, False, False, False, False, False, False, False, False, False, False, False, False, False, False, False, False, False, False, False, False, False, False, False, False, False, False, False, False, False, False, False, False, False, False, False, False, False, False, False, False, False, False, False, False, False, False, False, False, False, False, False, False, False, False, False, False, False, False, False, False, False, False, False, False, False, False, False, False, False, False, False, False, False, False, False, False, False, False, False, False, False, False, False, False, False, False, False, False, False, False, False, False, False, False, False, False, False, False, False, False, False, False, False, False, False, False, False, False, False, False, False, False, False, False, False, False, False, False, False, False, False, False, False, False, False, False, False, False, False, False, False, False, False, False, False, False, False, False, False, False, False, False, False, False, False, False, False, False, False, False, False, False, False, False, False, False, False, False, False, False, False, False, False, False, False, False, False, False, False, False, False, False, False, False, False, False, False, False, False, False, False, False, False, False, False, False, False, False, False, False, False, False, False, False, False, False, False, False, False, False, False, False, False, False, False, False, False, False, False, False, False, False, False, False, False, False, False, False, False, False, False, False, False, False, False, False, False, False, False, False, False, False, False, False, False, False, False, False, False, False, False, False, False, False, False, False, False, False, False, False, False, False, False, False, False, False, False, False, False, False, False, False, False, False, False, False, False, False, False, False, False, False, False, False, False, False, False, False, False, False, False, False, False, False, False, False, False, False, False, False, False, False, False, False, False, False, False, False, False, False, False, False, False, False, False, False, False, False, False, False, False, False, False, False, False, False, False, False, False, False, False, False, False, False, False, False, False, False, False, False, False, False, False, False, False, False, False, False, False, False, False, False, False, False, False, False, False, False, False, False, False, False, False, False, False, False, False, False, False, False, False, False, False, False, False, False, False, False, False, False, False, False, False, False, False, False, False, False, False, False, False, False, False, False, False, False, False, False, False, False, False, False, False, False, False, False, False, False, False, False, False, False, False, False, False, False, False, False, False, False, False, False, False, False, False, False, False, False, False, False, False, False, False, False, False, False, False, False, False, False, False, False, False, False, False, False, False, False, False, False, False, False, False, False, False, False, False, False, False, False, False, False, False, False, False, False, False, False, False, False, False, False, False, False, False, False, False, False, False, False, False, False, False, False, False, False, False, False, False, False, False, False, False, False, False, False, False, False, False, False, False, False, False, False, False, False, False, False, False, False, False, False, False, False, False, False, False, False, False, False, False, False, False, False, False, False, False, False, False, False, False, False, False, False, False, False, False, False, False, False, False, False, False, False, False, False, False, False, False, False, False, False, False, False, False, False, False, False, False, False, False, False, False, False, False, False, False, False, False, False, False, False, False, False, False, False, False, False, False, False, False, False, False, False, False, False, False, False, False, False, False, False, False, False, False, False, False, False, False, False, False, False, False, False, False, False, False, False, False, False, False, False, False, False, False, False, False, False, False, False, False, False, False, False, False, False, False, False, False, False, False, False, False, False, False, False, False, False, False, False, False, False, False, False, False, False, False, False, False, False, False, False, False, False, False, False, False, False, False, False, False, False, False, False, False, False, False, False, False, False, False, False, False, False, False, False, False, False, False, False, False, False, False, False, False, False, False, False, False, False, False, False, False, False, False, False, False, False, False, False, False, False, False, False, False, False, False, False, False, False, False, False, False, False, False, False, False, False, False, False, False, False, False, False, False, False, False, False, False, False, False, False, False, False, False, False, False, False, False, False, False, False, False, False, False, False, False, False, False, False, False, False, False, False, False, False, False, False, False, False, False, False, False, False, False, False, False, False, False, False, False, False, False, False, False, False, False, False, False, False, False, False, False, False, False, False, False, False, False, False, False, False, False, False, False, False, False, False, False, False, False, False, False, False, False, False, False, False, False, False, False, False, False, False, False, False, False, False, False, False, False, False, False, False, False, False, False, False, False, False, False, False, False, False, False, False, False, False, False, False, False, False, False, False, False, False, False, False, False, False, False, False, False, False, False, False, False, False, False, False, False, False, False, False, False, False, False, False, False, False, False, False, False, False, False, False, False, False, False, False, False, False, False, False, False, False, False, False, False, False, False, False, False, False, False, False, False, False, False, False, False, False, False, False, False, False, False, False, False, False, False, False, False, False, False, False, False, False, False, False, False, False, False, False, False, False, False, False, False, False, False, False, False, False, False, False, False, False, False, False, False, False, False, False, False, False, False, False, False, False]\n",
      "(0, 0)\n",
      "(5000, -2385)\n",
      "(5000, -2383)\n",
      "(5000, -2373)\n",
      "(5000, -2372)\n",
      "(5000, -2369)\n",
      "(5000, -2357)\n",
      "(5000, -2356)\n",
      "(5000, -2355)\n",
      "(5000, -2348)\n",
      "(5000, -2340)\n"
     ]
    },
    {
     "ename": "KeyboardInterrupt",
     "evalue": "",
     "output_type": "error",
     "traceback": [
      "\u001b[1;31m---------------------------------------------------------------------------\u001b[0m",
      "\u001b[1;31mKeyboardInterrupt\u001b[0m                         Traceback (most recent call last)",
      "\u001b[1;32md:\\GitHub\\computational-intelligence-PoliTO\\Laboratory Activities\\Halloween.ipynb Cella 14\u001b[0m line \u001b[0;36m6\n\u001b[0;32m      <a href='vscode-notebook-cell:/d%3A/GitHub/computational-intelligence-PoliTO/Laboratory%20Activities/Halloween.ipynb#X15sZmlsZQ%3D%3D?line=3'>4</a>\u001b[0m count_fitness \u001b[39m=\u001b[39m \u001b[39m0\u001b[39m\n\u001b[0;32m      <a href='vscode-notebook-cell:/d%3A/GitHub/computational-intelligence-PoliTO/Laboratory%20Activities/Halloween.ipynb#X15sZmlsZQ%3D%3D?line=4'>5</a>\u001b[0m \u001b[39mfor\u001b[39;00m step \u001b[39min\u001b[39;00m \u001b[39mrange\u001b[39m(\u001b[39m1_000\u001b[39m):\n\u001b[1;32m----> <a href='vscode-notebook-cell:/d%3A/GitHub/computational-intelligence-PoliTO/Laboratory%20Activities/Halloween.ipynb#X15sZmlsZQ%3D%3D?line=5'>6</a>\u001b[0m     new_state \u001b[39m=\u001b[39m tweak(current_state)\n\u001b[0;32m      <a href='vscode-notebook-cell:/d%3A/GitHub/computational-intelligence-PoliTO/Laboratory%20Activities/Halloween.ipynb#X15sZmlsZQ%3D%3D?line=6'>7</a>\u001b[0m     \u001b[39mif\u001b[39;00m fitness2(new_state) \u001b[39m>\u001b[39m fitness2(current_state):\n\u001b[0;32m      <a href='vscode-notebook-cell:/d%3A/GitHub/computational-intelligence-PoliTO/Laboratory%20Activities/Halloween.ipynb#X15sZmlsZQ%3D%3D?line=7'>8</a>\u001b[0m         current_state \u001b[39m=\u001b[39m new_state\n",
      "\u001b[1;32md:\\GitHub\\computational-intelligence-PoliTO\\Laboratory Activities\\Halloween.ipynb Cella 14\u001b[0m line \u001b[0;36m5\n\u001b[0;32m      <a href='vscode-notebook-cell:/d%3A/GitHub/computational-intelligence-PoliTO/Laboratory%20Activities/Halloween.ipynb#X15sZmlsZQ%3D%3D?line=2'>3</a>\u001b[0m n_swapping \u001b[39m=\u001b[39m randint(\u001b[39m0\u001b[39m, PROBLEM_SIZE \u001b[39m-\u001b[39m \u001b[39m1\u001b[39m)\n\u001b[0;32m      <a href='vscode-notebook-cell:/d%3A/GitHub/computational-intelligence-PoliTO/Laboratory%20Activities/Halloween.ipynb#X15sZmlsZQ%3D%3D?line=3'>4</a>\u001b[0m index_list \u001b[39m=\u001b[39m sample(\u001b[39mrange\u001b[39m(\u001b[39m0\u001b[39m, PROBLEM_SIZE \u001b[39m-\u001b[39m \u001b[39m1\u001b[39m), n_swapping)\n\u001b[1;32m----> <a href='vscode-notebook-cell:/d%3A/GitHub/computational-intelligence-PoliTO/Laboratory%20Activities/Halloween.ipynb#X15sZmlsZQ%3D%3D?line=4'>5</a>\u001b[0m new_state \u001b[39m=\u001b[39m [\u001b[39mnot\u001b[39;00m new_state[i] \u001b[39mif\u001b[39;00m i \u001b[39min\u001b[39;00m index_list \u001b[39melse\u001b[39;00m new_state[i] \u001b[39mfor\u001b[39;00m i \u001b[39min\u001b[39;00m \u001b[39mrange\u001b[39m(\u001b[39mlen\u001b[39m(new_state))]\n\u001b[0;32m      <a href='vscode-notebook-cell:/d%3A/GitHub/computational-intelligence-PoliTO/Laboratory%20Activities/Halloween.ipynb#X15sZmlsZQ%3D%3D?line=5'>6</a>\u001b[0m \u001b[39mreturn\u001b[39;00m new_state\n",
      "\u001b[1;32md:\\GitHub\\computational-intelligence-PoliTO\\Laboratory Activities\\Halloween.ipynb Cella 14\u001b[0m line \u001b[0;36m5\n\u001b[0;32m      <a href='vscode-notebook-cell:/d%3A/GitHub/computational-intelligence-PoliTO/Laboratory%20Activities/Halloween.ipynb#X15sZmlsZQ%3D%3D?line=2'>3</a>\u001b[0m n_swapping \u001b[39m=\u001b[39m randint(\u001b[39m0\u001b[39m, PROBLEM_SIZE \u001b[39m-\u001b[39m \u001b[39m1\u001b[39m)\n\u001b[0;32m      <a href='vscode-notebook-cell:/d%3A/GitHub/computational-intelligence-PoliTO/Laboratory%20Activities/Halloween.ipynb#X15sZmlsZQ%3D%3D?line=3'>4</a>\u001b[0m index_list \u001b[39m=\u001b[39m sample(\u001b[39mrange\u001b[39m(\u001b[39m0\u001b[39m, PROBLEM_SIZE \u001b[39m-\u001b[39m \u001b[39m1\u001b[39m), n_swapping)\n\u001b[1;32m----> <a href='vscode-notebook-cell:/d%3A/GitHub/computational-intelligence-PoliTO/Laboratory%20Activities/Halloween.ipynb#X15sZmlsZQ%3D%3D?line=4'>5</a>\u001b[0m new_state \u001b[39m=\u001b[39m [\u001b[39mnot\u001b[39;00m new_state[i] \u001b[39mif\u001b[39;00m i \u001b[39min\u001b[39;49;00m index_list \u001b[39melse\u001b[39;00m new_state[i] \u001b[39mfor\u001b[39;00m i \u001b[39min\u001b[39;00m \u001b[39mrange\u001b[39m(\u001b[39mlen\u001b[39m(new_state))]\n\u001b[0;32m      <a href='vscode-notebook-cell:/d%3A/GitHub/computational-intelligence-PoliTO/Laboratory%20Activities/Halloween.ipynb#X15sZmlsZQ%3D%3D?line=5'>6</a>\u001b[0m \u001b[39mreturn\u001b[39;00m new_state\n",
      "\u001b[1;31mKeyboardInterrupt\u001b[0m: "
     ]
    }
   ],
   "source": [
    "current_state = [False for _ in range(PROBLEM_SIZE)]\n",
    "print(current_state)\n",
    "print(fitness2(current_state))\n",
    "count_fitness = 0\n",
    "for step in range(1_000):\n",
    "    new_state = tweak(current_state)\n",
    "    if fitness2(new_state) > fitness2(current_state):\n",
    "        current_state = new_state\n",
    "        count_fitness += 1\n",
    "        print(fitness2(current_state))\n",
    "print(count_fitness)"
   ]
  },
  {
   "cell_type": "code",
   "execution_count": null,
   "id": "cbdfebd1",
   "metadata": {},
   "outputs": [],
   "source": [
    "# multiple experiments with different initial states\n",
    "for i, elem in enumerate(initial_states):\n",
    "    print(f'Initial state {i}')\n",
    "    current_state = copy(elem)\n",
    "    #print(current_state)\n",
    "    #print(fitness2(current_state))\n",
    "    count_fitness = 0\n",
    "    for step in range(10_000):\n",
    "        new_state = tweak(current_state)\n",
    "        if fitness2(new_state) > fitness2(current_state):\n",
    "            current_state = new_state\n",
    "            count_fitness += 1\n",
    "            #print(fitness2(current_state))\n",
    "    print(\"final state fitness \", fitness2(current_state))\n",
    "    print(\"count_fitness: \", count_fitness)\n",
    "    print(\"End of iteration number \", i)\n",
    "    print()"
   ]
  },
  {
   "cell_type": "markdown",
   "id": "c01bd98a",
   "metadata": {},
   "source": [
    "### Random N-1 Tweaking"
   ]
  },
  {
   "cell_type": "code",
   "execution_count": 90,
   "id": "15ca5bd0",
   "metadata": {},
   "outputs": [],
   "source": [
    "def tweak(state):\n",
    "    new_state = copy(state)\n",
    "    n_swapping = randint(0, PROBLEM_SIZE - 1)\n",
    "    index_list = sample(range(0, PROBLEM_SIZE - 1), n_swapping)\n",
    "    new_state = [not new_state[i] if i in index_list else new_state[i] for i in range(len(new_state))]\n",
    "    return new_state\n",
    "\n",
    "def fitness2(state):\n",
    "    cost = sum(state)\n",
    "    valid = np.sum(\n",
    "        reduce(\n",
    "            np.logical_or,\n",
    "            [SETS[i] for i, t in enumerate(state) if t],\n",
    "            np.array([False for _ in range(PROBLEM_SIZE)]),\n",
    "        )\n",
    "    )\n",
    "    return valid, -cost"
   ]
  },
  {
   "cell_type": "code",
   "execution_count": 91,
   "id": "de782290",
   "metadata": {},
   "outputs": [
    {
     "name": "stdout",
     "output_type": "stream",
     "text": [
      "[False, False, False, False, False, False, False, False, False, False, False, False, False, False, False, False, False, False, False, False, False, False, False, False, False, False, False, False, False, False, False, False, False, False, False, False, False, False, False, False, False, False, False, False, False, False, False, False, False, False, False, False, False, False, False, False, False, False, False, False, False, False, False, False, False, False, False, False, False, False, False, False, False, False, False, False, False, False, False, False, False, False, False, False, False, False, False, False, False, False, False, False, False, False, False, False, False, False, False, False, False, False, False, False, False, False, False, False, False, False, False, False, False, False, False, False, False, False, False, False, False, False, False, False, False, False, False, False, False, False, False, False, False, False, False, False, False, False, False, False, False, False, False, False, False, False, False, False, False, False, False, False, False, False, False, False, False, False, False, False, False, False, False, False, False, False, False, False, False, False, False, False, False, False, False, False, False, False, False, False, False, False, False, False, False, False, False, False, False, False, False, False, False, False, False, False, False, False, False, False, False, False, False, False, False, False, False, False, False, False, False, False, False, False, False, False, False, False, False, False, False, False, False, False, False, False, False, False, False, False, False, False, False, False, False, False, False, False, False, False, False, False, False, False, False, False, False, False, False, False, False, False, False, False, False, False, False, False, False, False, False, False, False, False, False, False, False, False, False, False, False, False, False, False, False, False, False, False, False, False, False, False, False, False, False, False, False, False, False, False, False, False, False, False, False, False, False, False, False, False, False, False, False, False, False, False, False, False, False, False, False, False, False, False, False, False, False, False, False, False, False, False, False, False, False, False, False, False, False, False, False, False, False, False, False, False, False, False, False, False, False, False, False, False, False, False, False, False, False, False, False, False, False, False, False, False, False, False, False, False, False, False, False, False, False, False, False, False, False, False, False, False, False, False, False, False, False, False, False, False, False, False, False, False, False, False, False, False, False, False, False, False, False, False, False, False, False, False, False, False, False, False, False, False, False, False, False, False, False, False, False, False, False, False, False, False, False, False, False, False, False, False, False, False, False, False, False, False, False, False, False, False, False, False, False, False, False, False, False, False, False, False, False, False, False, False, False, False, False, False, False, False, False, False, False, False, False, False, False, False, False, False, False, False, False, False, False, False, False, False, False, False, False, False, False, False, False, False, False, False, False, False, False, False, False, False, False, False, False, False, False, False, False, False, False, False, False, False, False, False, False, False, False, False, False, False, False, False, False, False, False, False, False, False, False, False, False, False, False, False, False, False, False, False, False, False, False, False, False, False, False, False, False, False, False, False, False, False, False, False, False, False, False, False, False, False, False, False, False, False, False, False, False, False, False, False, False, False, False, False, False, False, False, False, False, False, False, False, False, False, False, False, False, False, False, False, False, False, False, False, False, False, False, False, False, False, False, False, False, False, False, False, False, False, False, False, False, False, False, False, False, False, False, False, False, False, False, False, False, False, False, False, False, False, False, False, False, False, False, False, False, False, False, False, False, False, False, False, False, False, False, False, False, False, False, False, False, False, False, False, False, False, False, False, False, False, False, False, False, False, False, False, False, False, False, False, False, False, False, False, False, False, False, False, False, False, False, False, False, False, False, False, False, False, False, False, False, False, False, False, False, False, False, False, False, False, False, False, False, False, False, False, False, False, False, False, False, False, False, False, False, False, False, False, False, False, False, False, False, False, False, False, False, False, False, False, False, False, False, False, False, False, False, False, False, False, False, False, False, False, False, False, False, False, False, False, False, False, False, False, False, False, False, False, False, False, False, False, False, False, False, False, False, False, False, False, False, False, False, False, False, False, False, False, False, False, False, False, False, False, False, False, False, False, False, False, False, False, False, False, False, False, False, False, False, False, False, False, False, False, False, False, False, False, False, False, False, False, False, False, False, False, False, False, False, False, False, False, False, False, False, False, False, False, False, False, False, False, False, False, False, False, False, False, False, False, False, False, False, False, False, False, False, False, False, False, False, False, False, False, False, False, False, False, False, False, False, False, False, False, False, False, False, False, False, False, False, False, False, False, False, False, False, False, False, False, False, False, False, False, False, False, False, False, False, False, False, False, False, False, False, False, False, False, False, False, False, False, False, False, False, False, False, False, False, False, False, False, False, False, False, False, False, False, False, False, False, False, False, False, False, False, False, False, False, False, False, False, False, False, False, False, False, False, False, False, False, False, False, False, False, False, False, False, False, False, False, False, False, False, False, False, False, False, False, False, False, False, False, False, False, False, False, False, False, False, False, False, False, False, False, False, False, False, False, False, False, False, False, False, False, False, False, False, False, False, False, False, False, False, False, False, False, False, False, False, False, False, False, False, False, False, False, False, False, False, False, False, False, False, False, False, False, False, False, False, False, False, False, False, False, False, False, False, False, False, False, False, False, False, False, False, False, False, False, False, False, False, False, False, False, False, False, False, False, False, False, False, False, False, False, False, False, False, False, False, False, False, False, False, False, False, False, False, False, False, False, False, False, False, False, False, False, False, False, False, False, False, False, False, False, False, False, False, False, False, False, False, False, False, False, False, False, False, False, False, False, False, False, False, False, False, False, False, False, False, False, False, False, False, False, False, False, False, False, False, False, False, False, False, False, False, False, False, False, False, False, False, False, False, False, False, False, False, False, False, False, False, False, False, False, False, False, False, False, False, False, False, False, False, False, False, False, False, False, False, False, False, False, False, False, False, False, False, False, False, False, False, False, False, False, False, False, False, False, False, False, False, False, False, False, False, False, False, False, False, False, False, False, False, False, False, False, False, False, False, False, False, False, False, False, False, False, False, False, False, False, False, False, False, False, False, False, False, False, False, False, False, False, False, False, False, False, False, False, False, False, False, False, False, False, False, False, False, False, False, False, False, False, False, False, False, False, False, False, False, False, False, False, False, False, False, False, False, False, False, False, False, False, False, False, False, False, False, False, False, False, False, False, False, False, False, False, False, False, False, False, False, False, False, False, False, False, False, False, False, False, False, False, False, False, False, False, False, False, False, False, False, False, False, False, False, False, False, False, False, False, False, False, False, False, False, False, False, False, False, False, False, False, False, False, False, False, False, False, False, False, False, False, False, False, False, False, False, False, False, False, False, False, False, False, False, False, False, False, False, False, False, False, False, False, False, False, False, False, False, False, False, False, False, False, False, False, False, False, False, False, False, False, False, False, False, False, False, False, False, False, False, False, False, False, False, False, False, False, False, False, False, False, False, False, False, False, False, False, False, False, False, False, False, False, False, False, False, False, False, False, False, False, False, False, False, False, False, False, False, False, False, False, False, False, False, False, False, False, False, False, False, False, False, False, False, False, False, False, False, False, False, False, False, False, False, False, False, False, False, False, False, False, False, False, False, False, False, False, False, False, False, False, False, False, False, False, False, False, False, False, False, False, False, False, False, False, False, False, False, False, False, False, False, False, False, False, False, False, False, False, False, False, False, False, False, False, False, False, False, False, False, False, False, False, False, False, False, False, False, False, False, False, False, False, False, False, False, False, False, False, False, False, False, False, False, False, False, False, False, False, False, False, False, False, False, False, False, False, False, False, False, False, False, False, False, False, False, False, False, False, False, False, False, False, False, False, False, False, False, False, False, False, False, False, False, False, False, False, False, False, False, False, False, False, False, False, False, False, False, False, False, False, False, False, False, False, False, False, False, False, False, False, False, False, False, False, False, False, False, False, False, False, False, False, False, False, False, False, False, False, False, False, False, False, False, False, False, False, False, False, False, False, False, False, False, False, False, False, False, False, False, False, False, False, False, False, False, False, False, False, False, False, False, False, False, False, False, False, False, False, False, False, False, False, False, False, False, False, False, False, False, False, False, False, False, False, False, False, False, False, False, False, False, False, False, False, False, False, False, False, False, False, False, False, False, False, False, False, False, False, False, False, False, False, False, False, False, False, False, False, False, False, False, False, False, False, False, False, False, False, False, False, False, False, False, False, False, False, False, False, False, False, False, False, False, False, False, False, False, False, False, False, False, False, False, False, False, False, False, False, False, False, False, False, False, False, False, False, False, False, False, False, False, False, False, False, False, False, False, False, False, False, False, False, False, False, False, False, False, False, False, False, False, False, False, False, False, False, False, False, False, False, False, False, False, False, False, False, False, False, False, False, False, False, False, False, False, False, False, False, False, False, False, False, False, False, False, False, False, False, False, False, False, False, False, False, False, False, False, False, False, False, False, False, False, False, False, False, False, False, False, False, False, False, False, False, False, False, False, False, False, False, False, False, False, False, False, False, False, False, False, False, False, False, False, False, False, False, False, False, False, False, False, False, False, False, False, False, False, False, False, False, False, False, False, False, False, False, False, False, False, False, False, False, False, False, False, False, False, False, False, False, False, False, False, False, False, False, False, False, False, False, False, False, False, False, False, False, False, False, False, False, False, False, False, False, False, False, False, False, False, False, False, False, False, False, False, False, False, False, False, False, False, False, False, False, False, False, False, False, False, False, False, False, False, False, False, False, False, False, False, False, False, False, False, False, False, False, False, False, False, False, False, False, False, False, False, False, False, False, False, False, False, False, False, False, False, False, False, False, False, False, False, False, False, False, False, False, False, False, False, False, False, False, False, False, False, False, False, False, False, False, False, False, False, False, False, False, False, False, False, False, False, False, False, False, False, False, False, False, False, False, False, False, False, False, False, False, False, False, False, False, False, False, False, False, False, False, False, False, False, False, False, False, False, False, False, False, False, False, False, False, False, False, False, False, False, False, False, False, False, False, False, False, False, False, False, False, False, False, False, False, False, False, False, False, False, False, False, False, False, False, False, False, False, False, False, False, False, False, False, False, False, False, False, False, False, False, False, False, False, False, False, False, False, False, False, False, False, False, False, False, False, False, False, False, False, False, False, False, False, False, False, False, False, False, False, False, False, False, False, False, False, False, False, False, False, False, False, False, False, False, False, False, False, False, False, False, False, False, False, False, False, False, False, False, False, False, False, False, False, False, False, False, False, False, False, False, False, False, False, False, False, False, False, False, False, False, False, False, False, False, False, False, False, False, False, False, False, False, False, False, False, False, False, False, False, False, False, False, False, False, False, False, False, False, False, False, False, False, False, False, False, False, False, False, False, False, False, False, False, False, False, False, False, False, False, False, False, False, False, False, False, False, False, False, False, False, False, False, False, False, False, False, False, False, False, False, False, False, False, False, False, False, False, False, False, False, False, False, False, False, False, False, False, False, False, False, False, False, False, False, False, False, False, False, False, False, False, False, False, False, False, False, False, False, False, False, False, False, False, False, False, False, False, False, False, False, False, False, False, False, False, False, False, False, False, False, False, False, False, False, False, False, False, False, False, False, False, False, False, False, False, False, False, False, False, False, False, False, False, False, False, False, False, False, False, False, False, False, False, False, False, False, False, False, False, False, False, False, False, False, False, False, False, False, False, False, False, False, False, False, False, False, False, False, False, False, False, False, False, False, False, False, False, False, False, False, False, False, False, False, False, False, False, False, False, False, False, False, False, False, False, False, False, False, False, False, False, False, False, False, False, False, False, False, False, False, False, False, False, False, False, False, False, False, False, False, False, False, False, False, False, False, False, False, False, False, False, False, False, False, False, False, False, False, False, False, False, False, False, False, False, False, False, False, False, False, False, False, False, False, False, False, False, False, False, False, False, False, False, False, False, False, False, False, False, False, False, False, False, False, False, False, False, False, False, False, False, False, False, False, False, False, False, False, False, False, False, False, False, False, False, False, False, False, False, False, False, False, False, False, False, False, False, False, False, False, False, False, False, False, False, False, False, False, False, False, False, False, False, False, False, False, False, False, False, False, False, False, False, False, False, False, False, False, False, False, False, False, False, False, False, False, False, False, False, False, False, False, False, False, False, False, False, False, False, False, False, False, False, False, False, False, False, False, False, False, False, False, False, False, False, False, False, False, False, False, False, False, False, False, False, False, False, False, False, False, False, False, False, False, False, False, False, False, False, False, False, False, False, False, False, False, False, False, False, False, False, False, False, False, False, False, False, False, False, False, False, False, False, False, False, False, False, False, False, False, False, False, False, False, False, False, False, False, False, False, False, False, False, False, False, False, False, False, False, False, False, False, False, False, False, False, False, False, False, False, False, False, False, False, False, False, False, False, False, False, False, False, False, False, False, False, False, False, False, False, False, False, False, False, False, False, False, False, False, False, False, False, False, False, False, False, False, False, False, False, False, False, False, False, False, False, False, False, False, False, False, False, False, False, False, False, False, False, False, False, False, False, False, False, False, False, False, False, False, False, False, False, False, False, False, False, False, False, False, False, False, False, False, False, False, False, False, False, False, False, False, False, False, False, False, False, False, False, False, False, False, False, False, False, False, False, False, False, False, False, False, False, False, False, False, False, False, False, False, False, False, False, False, False, False, False, False, False, False, False, False, False, False, False, False, False, False, False, False, False, False, False, False, False, False, False, False, False, False, False, False, False, False, False, False, False, False, False, False, False, False, False, False, False, False, False, False, False, False, False, False, False, False, False, False, False, False, False, False, False, False, False, False, False, False, False, False, False, False, False, False, False, False, False, False, False, False, False, False, False, False, False, False, False, False, False, False, False, False, False, False, False, False, False, False, False, False, False, False, False, False, False, False, False, False, False, False, False, False, False, False, False, False, False, False, False, False, False, False, False, False, False, False, False, False, False, False, False, False, False, False, False, False, False, False, False, False, False, False, False, False, False, False, False, False, False, False, False, False, False, False, False, False, False, False, False, False, False, False, False, False, False, False, False, False, False, False, False, False, False, False, False, False, False, False, False, False, False, False, False, False, False, False, False, False, False, False, False, False, False, False, False, False, False, False, False, False, False, False, False, False, False, False, False, False, False, False, False, False, False, False, False, False, False, False, False, False, False, False, False, False, False, False, False, False, False, False, False, False, False, False, False, False, False, False, False, False, False, False, False, False, False, False, False, False, False, False, False, False, False, False, False, False, False, False, False, False, False, False, False, False, False, False, False, False, False, False, False, False, False, False, False, False, False, False, False, False, False, False, False, False, False, False, False, False, False, False, False, False, False, False, False, False, False, False, False, False, False, False, False, False, False, False, False, False, False, False, False, False, False, False, False, False, False, False, False, False, False, False, False, False, False, False, False, False, False, False, False, False, False, False, False, False, False, False, False, False, False, False, False, False, False, False, False, False, False, False, False, False, False, False, False, False, False, False, False, False, False, False, False, False, False, False, False, False, False, False, False, False, False, False, False, False, False, False, False, False, False, False, False, False, False, False, False, False, False, False, False, False, False, False, False, False, False, False, False, False, False, False, False, False, False, False, False, False, False, False, False, False, False, False, False, False, False, False, False, False, False, False, False, False, False, False, False, False, False, False, False, False, False, False, False, False, False, False, False, False, False, False, False, False, False, False, False, False, False, False, False, False, False, False, False, False, False, False, False, False, False, False, False, False, False, False, False, False, False, False, False, False, False, False, False, False, False, False, False, False, False, False, False, False, False, False, False, False, False, False, False, False, False, False, False, False, False, False, False, False, False, False, False, False, False, False, False, False, False, False, False, False, False, False, False, False, False, False, False, False, False, False, False, False, False, False, False, False, False, False, False, False, False, False, False, False, False, False, False, False, False, False, False, False, False, False, False, False, False, False, False, False, False, False, False, False, False, False, False, False, False, False, False, False, False, False, False, False, False, False, False, False, False, False, False, False, False, False, False, False, False, False, False, False, False, False, False, False, False, False, False, False, False, False, False, False, False, False, False, False, False, False, False, False, False, False, False, False, False, False, False, False, False, False, False, False, False, False, False, False, False, False, False, False, False, False, False, False, False, False, False, False, False, False, False, False, False, False, False, False, False, False, False, False, False, False, False, False, False, False, False, False, False, False, False, False, False, False, False, False, False, False, False, False, False, False, False, False, False, False, False, False, False, False, False, False, False, False, False, False, False, False, False, False, False, False, False, False, False, False, False, False, False, False, False, False, False, False, False, False, False, False, False, False, False, False, False, False, False, False, False, False, False, False, False, False, False, False, False, False, False, False, False, False, False, False, False, False, False, False, False, False, False, False, False, False, False, False, False, False, False, False, False, False, False, False, False, False, False, False, False, False, False, False, False, False, False, False, False, False, False, False, False, False, False, False, False, False, False, False, False, False, False, False, False, False, False, False, False, False, False, False, False, False, False, False, False, False, False, False, False, False, False, False, False, False, False, False, False, False, False, False, False, False, False, False, False, False, False, False, False, False, False, False, False, False, False, False, False, False, False, False, False, False, False, False, False, False, False, False, False, False, False, False, False, False, False, False, False, False, False, False, False, False, False, False, False, False, False, False, False, False, False, False, False, False, False, False, False, False, False, False, False, False, False, False, False, False, False, False, False, False, False, False, False, False, False, False, False, False, False, False, False, False, False, False, False, False, False, False, False, False, False, False, False, False, False, False, False, False, False, False, False, False, False, False, False, False, False, False, False, False, False, False, False, False, False, False, False, False, False, False, False, False, False, False, False, False, False, False, False, False, False, False, False, False, False, False, False, False, False, False, False, False, False, False, False, False, False, False, False, False, False, False, False, False, False, False, False, False, False, False, False, False, False, False, False, False, False, False, False, False, False, False, False, False, False, False, False, False, False, False, False, False, False, False, False, False, False, False, False, False, False, False, False, False, False, False, False, False, False, False, False, False, False, False, False, False, False, False, False, False, False, False, False, False, False, False, False, False, False, False, False, False, False, False, False, False, False, False, False, False, False, False, False, False, False, False, False, False, False, False, False, False, False, False, False, False, False, False, False, False, False, False, False, False, False, False, False, False, False, False, False, False, False, False, False, False, False, False, False, False, False, False, False, False, False, False, False, False, False, False, False, False, False, False, False, False, False, False, False, False, False, False, False, False, False, False, False, False, False, False, False, False, False, False, False, False, False, False, False, False, False, False, False, False, False, False, False, False, False, False, False, False, False, False, False, False, False, False, False, False, False, False, False, False, False, False, False, False, False, False, False, False, False, False, False, False, False, False, False, False, False, False, False, False, False, False, False, False, False, False, False, False, False, False, False, False, False, False, False, False, False, False, False, False, False, False, False, False, False, False, False, False, False, False, False, False, False, False, False, False, False, False, False, False, False, False, False, False, False, False, False, False, False, False, False, False, False, False, False, False, False, False, False, False, False, False, False, False, False, False, False, False, False, False, False, False, False, False, False, False, False, False, False, False, False, False, False, False, False, False, False, False, False, False, False, False, False, False, False, False, False, False, False, False, False, False, False, False, False, False, False, False, False, False, False, False, False, False, False, False, False, False, False, False, False, False, False, False, False, False, False, False, False, False, False, False, False, False, False, False, False, False, False, False, False, False, False, False, False, False, False, False, False, False, False, False, False, False, False, False, False, False, False, False, False, False, False, False, False, False, False, False, False, False, False, False, False, False, False, False, False, False, False, False, False, False, False, False, False, False, False, False, False, False, False, False, False, False, False, False, False, False, False, False, False, False, False, False, False, False, False, False, False, False, False, False, False, False, False, False, False, False, False, False, False, False, False, False, False, False, False, False, False, False, False, False, False, False, False, False, False, False, False, False, False, False, False, False, False, False, False, False, False, False, False, False, False, False, False, False, False, False, False, False, False, False, False, False, False, False, False, False, False, False, False, False, False, False, False, False, False, False, False, False, False, False, False, False, False, False, False, False, False, False, False, False, False, False, False, False, False, False, False, False, False, False, False, False, False, False, False, False, False, False, False, False, False, False, False, False, False, False, False, False, False, False, False, False, False, False, False, False, False, False, False, False, False, False, False, False, False, False, False, False, False, False, False, False, False, False, False, False, False, False, False, False, False, False, False, False, False, False, False, False, False, False, False, False, False, False, False, False, False, False, False, False, False, False, False, False, False, False, False, False, False, False, False, False, False, False, False, False, False, False, False, False, False, False, False, False, False, False, False, False, False, False, False, False, False, False, False, False, False, False, False, False, False, False, False, False, False, False, False, False, False, False, False, False, False, False, False, False, False, False, False, False, False, False, False, False, False, False, False, False, False, False, False, False, False, False, False, False, False, False, False, False, False, False, False, False, False, False, False, False, False, False, False, False, False, False, False, False, False, False, False, False, False, False, False, False, False, False, False, False, False, False, False, False, False, False, False, False, False, False, False, False, False, False, False, False, False, False, False, False, False, False, False, False, False, False, False, False, False, False, False, False, False, False, False, False, False, False, False, False, False, False, False, False, False, False, False, False, False, False, False, False, False, False, False, False, False, False, False, False, False, False, False, False, False, False, False, False, False, False, False, False, False, False, False, False, False, False, False, False, False, False, False, False, False, False, False, False, False, False, False, False, False, False, False, False, False, False, False, False, False, False, False, False, False, False, False, False, False, False, False, False, False, False, False, False, False, False, False, False, False, False, False, False, False, False, False, False, False, False, False, False, False, False, False, False, False, False, False, False, False, False, False, False, False, False, False, False, False, False, False, False, False, False, False, False, False, False, False, False, False, False, False, False, False, False, False, False, False, False, False, False, False, False, False, False, False, False, False, False, False, False, False, False, False, False, False, False, False, False, False, False, False, False, False, False, False, False, False, False, False, False, False, False, False, False, False, False, False, False, False, False, False, False, False, False, False, False, False, False, False, False, False, False, False, False, False, False, False, False, False, False, False, False, False, False, False, False, False, False, False, False, False, False, False, False, False, False, False, False, False, False, False, False, False, False, False, False, False, False, False, False, False, False, False, False, False, False, False, False, False, False, False, False, False, False, False, False, False, False, False, False, False, False, False, False, False, False, False, False, False, False, False, False, False, False, False, False, False, False, False, False, False, False, False, False, False, False, False, False, False, False, False, False, False, False, False, False, False, False, False, False, False, False, False, False, False, False, False, False, False, False, False, False, False, False, False, False, False, False, False, False, False, False, False, False, False, False, False, False, False, False, False, False, False, False, False, False, False, False, False, False, False, False, False, False, False, False, False, False, False, False, False, False, False, False, False, False, False, False, False, False, False, False, False, False, False, False, False, False, False, False, False, False, False, False, False, False, False, False, False, False, False, False, False, False, False, False, False, False, False, False, False, False, False, False, False, False, False, False, False, False, False, False, False, False, False, False, False, False, False, False, False, False, False, False, False, False, False, False, False, False, False, False, False, False, False, False, False, False, False, False, False, False, False, False, False, False, False, False, False, False, False, False, False, False, False, False, False, False, False, False, False, False, False, False, False, False, False, False, False, False, False, False, False, False, False, False, False, False, False, False, False, False, False, False, False, False, False, False, False, False, False, False, False, False, False, False, False, False, False, False, False, False, False, False, False, False, False, False, False, False, False, False, False, False, False, False, False, False, False, False, False, False, False, False, False, False, False, False, False, False, False, False, False, False, False, False, False, False, False, False, False, False, False, False, False, False, False, False, False, False, False, False, False, False, False, False, False, False, False, False, False, False, False, False, False, False, False, False, False, False, False, False, False, False, False, False, False, False, False, False, False, False, False, False, False, False, False, False, False, False]\n",
      "(0, 0)\n",
      "(5000, -3727)\n",
      "(5000, -3248)\n",
      "(5000, -2644)\n",
      "(5000, -2509)\n",
      "(5000, -2474)\n",
      "(5000, -2472)\n",
      "(5000, -2469)\n",
      "(5000, -2419)\n",
      "(5000, -2418)\n",
      "(5000, -2411)\n",
      "(5000, -2410)\n",
      "(5000, -2405)\n",
      "(5000, -2396)\n",
      "(5000, -2384)\n",
      "(5000, -2370)\n",
      "(5000, -2367)\n",
      "(5000, -2366)\n",
      "(5000, -2365)\n",
      "(5000, -2364)\n",
      "(5000, -2363)\n",
      "(5000, -2357)\n",
      "(5000, -2354)\n",
      "(5000, -2350)\n",
      "(5000, -2347)\n",
      "(5000, -2346)\n",
      "(5000, -2336)\n",
      "(5000, -2333)\n",
      "(5000, -2328)\n",
      "(5000, -2326)\n",
      "(5000, -2322)\n",
      "(5000, -2320)\n",
      "(5000, -2319)\n",
      "(5000, -2303)\n",
      "(5000, -2301)\n",
      "(5000, -2297)\n",
      "(5000, -2277)\n",
      "(5000, -2274)\n",
      "(5000, -2270)\n",
      "(5000, -2269)\n",
      "(5000, -2267)\n",
      "(5000, -2266)\n",
      "(5000, -2259)\n",
      "(5000, -2258)\n",
      "(5000, -2243)\n",
      "(5000, -2240)\n"
     ]
    },
    {
     "ename": "KeyboardInterrupt",
     "evalue": "",
     "output_type": "error",
     "traceback": [
      "\u001b[1;31m---------------------------------------------------------------------------\u001b[0m",
      "\u001b[1;31mKeyboardInterrupt\u001b[0m                         Traceback (most recent call last)",
      "\u001b[1;32md:\\GitHub\\computational-intelligence-PoliTO\\Laboratory Activities\\Halloween.ipynb Cella 18\u001b[0m line \u001b[0;36m6\n\u001b[0;32m      <a href='vscode-notebook-cell:/d%3A/GitHub/computational-intelligence-PoliTO/Laboratory%20Activities/Halloween.ipynb#X21sZmlsZQ%3D%3D?line=3'>4</a>\u001b[0m count_fitness \u001b[39m=\u001b[39m \u001b[39m0\u001b[39m\n\u001b[0;32m      <a href='vscode-notebook-cell:/d%3A/GitHub/computational-intelligence-PoliTO/Laboratory%20Activities/Halloween.ipynb#X21sZmlsZQ%3D%3D?line=4'>5</a>\u001b[0m \u001b[39mfor\u001b[39;00m step \u001b[39min\u001b[39;00m \u001b[39mrange\u001b[39m(\u001b[39m10_000\u001b[39m):\n\u001b[1;32m----> <a href='vscode-notebook-cell:/d%3A/GitHub/computational-intelligence-PoliTO/Laboratory%20Activities/Halloween.ipynb#X21sZmlsZQ%3D%3D?line=5'>6</a>\u001b[0m     new_state \u001b[39m=\u001b[39m tweak(current_state)\n\u001b[0;32m      <a href='vscode-notebook-cell:/d%3A/GitHub/computational-intelligence-PoliTO/Laboratory%20Activities/Halloween.ipynb#X21sZmlsZQ%3D%3D?line=6'>7</a>\u001b[0m     \u001b[39mif\u001b[39;00m fitness2(new_state) \u001b[39m>\u001b[39m fitness2(current_state):\n\u001b[0;32m      <a href='vscode-notebook-cell:/d%3A/GitHub/computational-intelligence-PoliTO/Laboratory%20Activities/Halloween.ipynb#X21sZmlsZQ%3D%3D?line=7'>8</a>\u001b[0m         current_state \u001b[39m=\u001b[39m new_state\n",
      "\u001b[1;32md:\\GitHub\\computational-intelligence-PoliTO\\Laboratory Activities\\Halloween.ipynb Cella 18\u001b[0m line \u001b[0;36m5\n\u001b[0;32m      <a href='vscode-notebook-cell:/d%3A/GitHub/computational-intelligence-PoliTO/Laboratory%20Activities/Halloween.ipynb#X21sZmlsZQ%3D%3D?line=2'>3</a>\u001b[0m n_swapping \u001b[39m=\u001b[39m randint(\u001b[39m0\u001b[39m, PROBLEM_SIZE \u001b[39m-\u001b[39m \u001b[39m1\u001b[39m)\n\u001b[0;32m      <a href='vscode-notebook-cell:/d%3A/GitHub/computational-intelligence-PoliTO/Laboratory%20Activities/Halloween.ipynb#X21sZmlsZQ%3D%3D?line=3'>4</a>\u001b[0m index_list \u001b[39m=\u001b[39m sample(\u001b[39mrange\u001b[39m(\u001b[39m0\u001b[39m, PROBLEM_SIZE \u001b[39m-\u001b[39m \u001b[39m1\u001b[39m), n_swapping)\n\u001b[1;32m----> <a href='vscode-notebook-cell:/d%3A/GitHub/computational-intelligence-PoliTO/Laboratory%20Activities/Halloween.ipynb#X21sZmlsZQ%3D%3D?line=4'>5</a>\u001b[0m new_state \u001b[39m=\u001b[39m [\u001b[39mnot\u001b[39;00m new_state[i] \u001b[39mif\u001b[39;00m i \u001b[39min\u001b[39;00m index_list \u001b[39melse\u001b[39;00m new_state[i] \u001b[39mfor\u001b[39;00m i \u001b[39min\u001b[39;00m \u001b[39mrange\u001b[39m(\u001b[39mlen\u001b[39m(new_state))]\n\u001b[0;32m      <a href='vscode-notebook-cell:/d%3A/GitHub/computational-intelligence-PoliTO/Laboratory%20Activities/Halloween.ipynb#X21sZmlsZQ%3D%3D?line=5'>6</a>\u001b[0m \u001b[39mreturn\u001b[39;00m new_state\n",
      "\u001b[1;32md:\\GitHub\\computational-intelligence-PoliTO\\Laboratory Activities\\Halloween.ipynb Cella 18\u001b[0m line \u001b[0;36m5\n\u001b[0;32m      <a href='vscode-notebook-cell:/d%3A/GitHub/computational-intelligence-PoliTO/Laboratory%20Activities/Halloween.ipynb#X21sZmlsZQ%3D%3D?line=2'>3</a>\u001b[0m n_swapping \u001b[39m=\u001b[39m randint(\u001b[39m0\u001b[39m, PROBLEM_SIZE \u001b[39m-\u001b[39m \u001b[39m1\u001b[39m)\n\u001b[0;32m      <a href='vscode-notebook-cell:/d%3A/GitHub/computational-intelligence-PoliTO/Laboratory%20Activities/Halloween.ipynb#X21sZmlsZQ%3D%3D?line=3'>4</a>\u001b[0m index_list \u001b[39m=\u001b[39m sample(\u001b[39mrange\u001b[39m(\u001b[39m0\u001b[39m, PROBLEM_SIZE \u001b[39m-\u001b[39m \u001b[39m1\u001b[39m), n_swapping)\n\u001b[1;32m----> <a href='vscode-notebook-cell:/d%3A/GitHub/computational-intelligence-PoliTO/Laboratory%20Activities/Halloween.ipynb#X21sZmlsZQ%3D%3D?line=4'>5</a>\u001b[0m new_state \u001b[39m=\u001b[39m [\u001b[39mnot\u001b[39;00m new_state[i] \u001b[39mif\u001b[39;00m i \u001b[39min\u001b[39;00m index_list \u001b[39melse\u001b[39;00m new_state[i] \u001b[39mfor\u001b[39;00m i \u001b[39min\u001b[39;00m \u001b[39mrange\u001b[39m(\u001b[39mlen\u001b[39m(new_state))]\n\u001b[0;32m      <a href='vscode-notebook-cell:/d%3A/GitHub/computational-intelligence-PoliTO/Laboratory%20Activities/Halloween.ipynb#X21sZmlsZQ%3D%3D?line=5'>6</a>\u001b[0m \u001b[39mreturn\u001b[39;00m new_state\n",
      "\u001b[1;31mKeyboardInterrupt\u001b[0m: "
     ]
    }
   ],
   "source": [
    "current_state = [False for _ in range(PROBLEM_SIZE)]\n",
    "print(current_state)\n",
    "print(fitness2(current_state))\n",
    "count_fitness = 0\n",
    "for step in range(10_000):\n",
    "    new_state = tweak(current_state)\n",
    "    if fitness2(new_state) > fitness2(current_state):\n",
    "        current_state = new_state\n",
    "        print(fitness2(current_state))\n",
    "        count_fitness += 1\n",
    "\n",
    "print(count_fitness)"
   ]
  },
  {
   "cell_type": "markdown",
   "id": "33e283b2",
   "metadata": {},
   "source": [
    "### Random 2 Tweak"
   ]
  },
  {
   "cell_type": "code",
   "execution_count": 94,
   "id": "2d4508eb",
   "metadata": {},
   "outputs": [],
   "source": [
    "def tweak(state):\n",
    "    new_state = copy(state)\n",
    "    index_list = sample(range(0, PROBLEM_SIZE - 1), 2)\n",
    "    new_state = [not new_state[i] if i in index_list else new_state[i] for i in range(len(new_state))]\n",
    "    return new_state\n",
    "\n",
    "def fitness2(state):\n",
    "    cost = sum(state)\n",
    "    valid = np.sum(\n",
    "        reduce(\n",
    "            np.logical_or,\n",
    "            [SETS[i] for i, t in enumerate(state) if t],\n",
    "            np.array([False for _ in range(PROBLEM_SIZE)]),\n",
    "        )\n",
    "    )\n",
    "    return valid, -cost"
   ]
  },
  {
   "cell_type": "code",
   "execution_count": 95,
   "id": "1bbbf556",
   "metadata": {},
   "outputs": [
    {
     "name": "stdout",
     "output_type": "stream",
     "text": [
      "(0, 0)\n",
      "(2583, -2)\n",
      "(3823, -4)\n",
      "(4416, -6)\n",
      "(4720, -8)\n",
      "(4847, -10)\n",
      "(4924, -12)\n",
      "(4961, -14)\n",
      "(4989, -16)\n",
      "(4997, -18)\n",
      "(4999, -20)\n",
      "(5000, -22)\n",
      "11\n"
     ]
    }
   ],
   "source": [
    "current_state = [False for _ in range(PROBLEM_SIZE)]\n",
    "\n",
    "print(fitness2(current_state))\n",
    "count_fitness = 0\n",
    "for step in range(1_000):\n",
    "    new_state = tweak(current_state)\n",
    "    \n",
    "    if fitness2(new_state) > fitness2(current_state):\n",
    "        current_state = new_state\n",
    "        print(fitness2(current_state))\n",
    "        count_fitness += 1\n",
    "\n",
    "print(count_fitness)"
   ]
  },
  {
   "cell_type": "markdown",
   "id": "2e463379",
   "metadata": {},
   "source": [
    "### Random 3 tweak"
   ]
  },
  {
   "cell_type": "code",
   "execution_count": 96,
   "id": "6da8eb06",
   "metadata": {},
   "outputs": [],
   "source": [
    "def tweak(state):\n",
    "    new_state = copy(state)\n",
    "    index_list = sample(range(0, PROBLEM_SIZE - 1), 3)\n",
    "    new_state = [not new_state[i] if i in index_list else new_state[i] for i in range(len(new_state))]\n",
    "    return new_state\n",
    "\n",
    "def fitness2(state):\n",
    "    cost = sum(state)\n",
    "    valid = np.sum(\n",
    "        reduce(\n",
    "            np.logical_or,\n",
    "            [SETS[i] for i, t in enumerate(state) if t],\n",
    "            np.array([False for _ in range(PROBLEM_SIZE)]),\n",
    "        )\n",
    "    )\n",
    "    return valid, -cost"
   ]
  },
  {
   "cell_type": "code",
   "execution_count": 97,
   "id": "36015f89",
   "metadata": {},
   "outputs": [
    {
     "name": "stdout",
     "output_type": "stream",
     "text": [
      "(0, 0)\n",
      "(3251, -3)\n",
      "(4375, -6)\n",
      "(4815, -9)\n",
      "(4938, -12)\n",
      "(4981, -15)\n",
      "(4993, -18)\n",
      "(4998, -21)\n",
      "(4999, -24)\n",
      "(5000, -27)\n",
      "9\n"
     ]
    }
   ],
   "source": [
    "current_state = [False for _ in range(PROBLEM_SIZE)]\n",
    "\n",
    "print(fitness2(current_state))\n",
    "count_fitness = 0\n",
    "for step in range(10_000):\n",
    "    new_state = tweak(current_state)\n",
    "    \n",
    "    if fitness2(new_state) > fitness2(current_state):\n",
    "        current_state = new_state\n",
    "        print(fitness2(current_state))\n",
    "        count_fitness += 1\n",
    "\n",
    "print(count_fitness)"
   ]
  },
  {
   "cell_type": "markdown",
   "id": "74851ad2",
   "metadata": {},
   "source": [
    "### Simulated annealing"
   ]
  },
  {
   "cell_type": "code",
   "execution_count": null,
   "id": "21796254",
   "metadata": {},
   "outputs": [],
   "source": [
    "def simulated_annealing(current_state, new_state, temperature):\n",
    "\n",
    "    return np.exp(-(fitness2(current_state)[1] - fitness2(new_state)[1])/(temperature + 0.0001))\n",
    "\n",
    "def tweak(state):\n",
    "    new_state = copy(state)\n",
    "    index_list = sample(range(0, PROBLEM_SIZE - 1), 2)\n",
    "    new_state = [not new_state[i] if i in index_list else new_state[i] for i in range(len(new_state))]\n",
    "    return new_state\n",
    "\n",
    "def fitness2(state):\n",
    "    cost = sum(state)\n",
    "    valid = np.sum(\n",
    "        reduce(\n",
    "            np.logical_or,\n",
    "            [SETS[i] for i, t in enumerate(state) if t],\n",
    "            np.array([False for _ in range(PROBLEM_SIZE)]),\n",
    "        )\n",
    "    )\n",
    "    return valid, -cost\n"
   ]
  },
  {
   "cell_type": "code",
   "execution_count": null,
   "id": "1d92e6b5",
   "metadata": {},
   "outputs": [],
   "source": [
    "current_state = [False for _ in range(PROBLEM_SIZE)]\n",
    "\n",
    "temperature = 0.01\n",
    "print(fitness2(current_state))\n",
    "count_fitness = 0\n",
    "for step in range(10_000):\n",
    "\n",
    "    new_state = tweak(current_state)\n",
    "    temperature = temperature * 0.5 if step % 100 == 0 else temperature\n",
    "\n",
    "    if fitness2(new_state) > fitness2(current_state):\n",
    "\n",
    "        current_state = new_state\n",
    "        print(fitness2(current_state))\n",
    "        count_fitness += 1\n",
    "    \n",
    "    else:\n",
    "        \n",
    "        p = simulated_annealing(current_state, new_state, temperature)\n",
    "        \n",
    "        if random() < p:\n",
    "        \n",
    "            current_state = new_state\n",
    "            print(\"SA:\", fitness2(current_state))\n",
    "            count_fitness += 1\n",
    "\n",
    "print(count_fitness)"
   ]
  },
  {
   "cell_type": "markdown",
   "id": "4bc77d24",
   "metadata": {},
   "source": [
    "# Steepest Ascent Hill Climbing (1 tweak)"
   ]
  },
  {
   "cell_type": "code",
   "execution_count": 98,
   "id": "12b33716",
   "metadata": {},
   "outputs": [],
   "source": [
    "def simulated_annealing(current_state, new_state, temperature):\n",
    "\n",
    "    return np.exp(-(fitness2(current_state)[1] - fitness2(new_state)[1])/(temperature + 0.0001))\n",
    "\n",
    "def tweak(state, index):\n",
    "    new_state = copy(state)\n",
    "    new_state[index] = not new_state[index]\n",
    "    return new_state\n",
    "\n",
    "def fitness2(state):\n",
    "    cost = sum(state)\n",
    "    valid = np.sum(\n",
    "        reduce(\n",
    "            np.logical_or,\n",
    "            [SETS[i] for i, t in enumerate(state) if t],\n",
    "            np.array([False for _ in range(PROBLEM_SIZE)]),\n",
    "        )\n",
    "    )\n",
    "    return valid, -cost\n"
   ]
  },
  {
   "cell_type": "code",
   "execution_count": 99,
   "id": "ba8edf1b",
   "metadata": {},
   "outputs": [
    {
     "name": "stdout",
     "output_type": "stream",
     "text": [
      "(0, 0)\n",
      "0 1 (1491, -1)\n",
      "0 2 (1524, -1)\n",
      "0 3 (1528, -1)\n",
      "0 4 (1531, -1)\n",
      "0 5 (1607, -1)\n",
      "0 6 (1613, -1)\n",
      "1 7 (2625, -2)\n",
      "1 8 (2636, -2)\n",
      "1 9 (2649, -2)\n",
      "1 10 (2671, -2)\n",
      "1 11 (2695, -2)\n",
      "1 12 (2723, -2)\n",
      "2 13 (3385, -3)\n",
      "2 14 (3417, -3)\n",
      "2 15 (3421, -3)\n",
      "2 16 (3423, -3)\n",
      "2 17 (3468, -3)\n",
      "2 18 (3478, -3)\n",
      "2 19 (3479, -3)\n",
      "2 20 (3480, -3)\n",
      "3 21 (3923, -4)\n",
      "3 22 (3951, -4)\n",
      "3 23 (3954, -4)\n",
      "3 24 (3959, -4)\n",
      "3 25 (4002, -4)\n",
      "3 26 (4012, -4)\n",
      "4 27 (4295, -5)\n",
      "4 28 (4312, -5)\n",
      "4 29 (4324, -5)\n",
      "4 30 (4327, -5)\n",
      "4 31 (4335, -5)\n",
      "4 32 (4337, -5)\n",
      "4 33 (4356, -5)\n",
      "4 34 (4357, -5)\n",
      "5 35 (4533, -6)\n",
      "5 36 (4549, -6)\n",
      "5 37 (4574, -6)\n",
      "5 38 (4577, -6)\n",
      "5 39 (4583, -6)\n",
      "5 40 (4584, -6)\n",
      "5 41 (4585, -6)\n",
      "5 42 (4589, -6)\n",
      "5 43 (4593, -6)\n",
      "6 44 (4711, -7)\n",
      "6 45 (4723, -7)\n",
      "6 46 (4733, -7)\n",
      "6 47 (4736, -7)\n",
      "6 48 (4737, -7)\n",
      "6 49 (4738, -7)\n",
      "6 50 (4740, -7)\n",
      "6 51 (4742, -7)\n",
      "6 52 (4743, -7)\n",
      "6 53 (4744, -7)\n",
      "6 54 (4752, -7)\n",
      "7 55 (4826, -8)\n",
      "7 56 (4828, -8)\n",
      "7 57 (4836, -8)\n",
      "7 58 (4839, -8)\n",
      "7 59 (4841, -8)\n",
      "7 60 (4843, -8)\n",
      "7 61 (4849, -8)\n",
      "7 62 (4850, -8)\n",
      "7 63 (4851, -8)\n",
      "8 64 (4892, -9)\n",
      "8 65 (4900, -9)\n",
      "8 66 (4902, -9)\n",
      "8 67 (4906, -9)\n",
      "8 68 (4908, -9)\n",
      "8 69 (4912, -9)\n",
      "8 70 (4914, -9)\n",
      "8 71 (4915, -9)\n",
      "8 72 (4918, -9)\n",
      "8 73 (4919, -9)\n",
      "9 74 (4936, -10)\n",
      "9 75 (4944, -10)\n",
      "9 76 (4950, -10)\n",
      "9 77 (4951, -10)\n",
      "9 78 (4952, -10)\n",
      "9 79 (4953, -10)\n",
      "9 80 (4955, -10)\n",
      "9 81 (4956, -10)\n",
      "9 82 (4957, -10)\n",
      "9 83 (4959, -10)\n",
      "10 84 (4968, -11)\n",
      "10 85 (4971, -11)\n",
      "10 86 (4973, -11)\n",
      "10 87 (4974, -11)\n",
      "10 88 (4975, -11)\n",
      "10 89 (4976, -11)\n",
      "10 90 (4977, -11)\n",
      "10 91 (4978, -11)\n",
      "10 92 (4980, -11)\n",
      "10 93 (4983, -11)\n",
      "11 94 (4987, -12)\n",
      "11 95 (4989, -12)\n",
      "11 96 (4990, -12)\n",
      "11 97 (4993, -12)\n",
      "11 98 (4994, -12)\n",
      "11 99 (4996, -12)\n",
      "12 100 (4997, -13)\n",
      "12 101 (4999, -13)\n",
      "12 102 (5000, -13)\n"
     ]
    },
    {
     "ename": "KeyboardInterrupt",
     "evalue": "",
     "output_type": "error",
     "traceback": [
      "\u001b[1;31m---------------------------------------------------------------------------\u001b[0m",
      "\u001b[1;31mKeyboardInterrupt\u001b[0m                         Traceback (most recent call last)",
      "\u001b[1;32md:\\GitHub\\computational-intelligence-PoliTO\\Laboratory Activities\\Halloween.ipynb Cella 30\u001b[0m line \u001b[0;36m1\n\u001b[0;32m      <a href='vscode-notebook-cell:/d%3A/GitHub/computational-intelligence-PoliTO/Laboratory%20Activities/Halloween.ipynb#X36sZmlsZQ%3D%3D?line=7'>8</a>\u001b[0m \u001b[39mfor\u001b[39;00m i \u001b[39min\u001b[39;00m \u001b[39mrange\u001b[39m(PROBLEM_SIZE):\n\u001b[0;32m      <a href='vscode-notebook-cell:/d%3A/GitHub/computational-intelligence-PoliTO/Laboratory%20Activities/Halloween.ipynb#X36sZmlsZQ%3D%3D?line=8'>9</a>\u001b[0m     new_state \u001b[39m=\u001b[39m tweak(current_state, i)\n\u001b[1;32m---> <a href='vscode-notebook-cell:/d%3A/GitHub/computational-intelligence-PoliTO/Laboratory%20Activities/Halloween.ipynb#X36sZmlsZQ%3D%3D?line=9'>10</a>\u001b[0m     \u001b[39mif\u001b[39;00m fitness2(new_state) \u001b[39m>\u001b[39m fitness2(candidate_state):\n\u001b[0;32m     <a href='vscode-notebook-cell:/d%3A/GitHub/computational-intelligence-PoliTO/Laboratory%20Activities/Halloween.ipynb#X36sZmlsZQ%3D%3D?line=10'>11</a>\u001b[0m         candidate_state \u001b[39m=\u001b[39m new_state\n\u001b[0;32m     <a href='vscode-notebook-cell:/d%3A/GitHub/computational-intelligence-PoliTO/Laboratory%20Activities/Halloween.ipynb#X36sZmlsZQ%3D%3D?line=11'>12</a>\u001b[0m         best_index \u001b[39m=\u001b[39m i\n",
      "\u001b[1;32md:\\GitHub\\computational-intelligence-PoliTO\\Laboratory Activities\\Halloween.ipynb Cella 30\u001b[0m line \u001b[0;36m1\n\u001b[0;32m     <a href='vscode-notebook-cell:/d%3A/GitHub/computational-intelligence-PoliTO/Laboratory%20Activities/Halloween.ipynb#X36sZmlsZQ%3D%3D?line=9'>10</a>\u001b[0m \u001b[39mdef\u001b[39;00m \u001b[39mfitness2\u001b[39m(state):\n\u001b[0;32m     <a href='vscode-notebook-cell:/d%3A/GitHub/computational-intelligence-PoliTO/Laboratory%20Activities/Halloween.ipynb#X36sZmlsZQ%3D%3D?line=10'>11</a>\u001b[0m     cost \u001b[39m=\u001b[39m \u001b[39msum\u001b[39m(state)\n\u001b[0;32m     <a href='vscode-notebook-cell:/d%3A/GitHub/computational-intelligence-PoliTO/Laboratory%20Activities/Halloween.ipynb#X36sZmlsZQ%3D%3D?line=11'>12</a>\u001b[0m     valid \u001b[39m=\u001b[39m np\u001b[39m.\u001b[39msum(\n\u001b[1;32m---> <a href='vscode-notebook-cell:/d%3A/GitHub/computational-intelligence-PoliTO/Laboratory%20Activities/Halloween.ipynb#X36sZmlsZQ%3D%3D?line=12'>13</a>\u001b[0m         reduce(\n\u001b[0;32m     <a href='vscode-notebook-cell:/d%3A/GitHub/computational-intelligence-PoliTO/Laboratory%20Activities/Halloween.ipynb#X36sZmlsZQ%3D%3D?line=13'>14</a>\u001b[0m             np\u001b[39m.\u001b[39;49mlogical_or,\n\u001b[0;32m     <a href='vscode-notebook-cell:/d%3A/GitHub/computational-intelligence-PoliTO/Laboratory%20Activities/Halloween.ipynb#X36sZmlsZQ%3D%3D?line=14'>15</a>\u001b[0m             [SETS[i] \u001b[39mfor\u001b[39;49;00m i, t \u001b[39min\u001b[39;49;00m \u001b[39menumerate\u001b[39;49m(state) \u001b[39mif\u001b[39;49;00m t],\n\u001b[0;32m     <a href='vscode-notebook-cell:/d%3A/GitHub/computational-intelligence-PoliTO/Laboratory%20Activities/Halloween.ipynb#X36sZmlsZQ%3D%3D?line=15'>16</a>\u001b[0m             np\u001b[39m.\u001b[39;49marray([\u001b[39mFalse\u001b[39;49;00m \u001b[39mfor\u001b[39;49;00m _ \u001b[39min\u001b[39;49;00m \u001b[39mrange\u001b[39;49m(PROBLEM_SIZE)]),\n\u001b[0;32m     <a href='vscode-notebook-cell:/d%3A/GitHub/computational-intelligence-PoliTO/Laboratory%20Activities/Halloween.ipynb#X36sZmlsZQ%3D%3D?line=16'>17</a>\u001b[0m         )\n\u001b[0;32m     <a href='vscode-notebook-cell:/d%3A/GitHub/computational-intelligence-PoliTO/Laboratory%20Activities/Halloween.ipynb#X36sZmlsZQ%3D%3D?line=17'>18</a>\u001b[0m     )\n\u001b[0;32m     <a href='vscode-notebook-cell:/d%3A/GitHub/computational-intelligence-PoliTO/Laboratory%20Activities/Halloween.ipynb#X36sZmlsZQ%3D%3D?line=18'>19</a>\u001b[0m     \u001b[39mreturn\u001b[39;00m valid, \u001b[39m-\u001b[39mcost\n",
      "\u001b[1;31mKeyboardInterrupt\u001b[0m: "
     ]
    }
   ],
   "source": [
    "current_state = [False for _ in range(PROBLEM_SIZE)]\n",
    "candidate_state = current_state\n",
    "\n",
    "print(fitness2(current_state))\n",
    "count_fitness = 0\n",
    "best_index = 0\n",
    "for step in range(1000):\n",
    "    for i in range(PROBLEM_SIZE):\n",
    "        new_state = tweak(current_state, i)\n",
    "        if fitness2(new_state) > fitness2(candidate_state):\n",
    "            candidate_state = new_state\n",
    "            best_index = i\n",
    "            count_fitness += 1\n",
    "            print(step, count_fitness, fitness2(candidate_state))\n",
    "\n",
    "    current_state = candidate_state   \n",
    "\n",
    "print(fitness2(current_state))\n",
    "\n",
    "print(count_fitness)"
   ]
  },
  {
   "cell_type": "markdown",
   "id": "51057b26",
   "metadata": {},
   "source": [
    "# Steepest Stochastic Ascent Hill Climbing (2 tweak)"
   ]
  },
  {
   "cell_type": "code",
   "execution_count": 100,
   "id": "16ab5321",
   "metadata": {},
   "outputs": [],
   "source": [
    "def simulated_annealing(current_state, new_state, temperature):\n",
    "    return np.exp(-(fitness2(current_state)[1] - fitness2(new_state)[1])/(temperature + 0.0001))\n",
    "\n",
    "def tweak(state, index_list):\n",
    "    new_state = copy(state)\n",
    "    new_state = [not new_state[i] if i in index_list else new_state[i] for i in range(len(new_state))]\n",
    "    return new_state\n",
    "\n",
    "def fitness2(state):\n",
    "    cost = sum(state)\n",
    "    valid = np.sum(\n",
    "        reduce(\n",
    "            np.logical_or,\n",
    "            [SETS[i] for i, t in enumerate(state) if t],\n",
    "            np.array([False for _ in range(PROBLEM_SIZE)]),\n",
    "        )\n",
    "    )\n",
    "    return valid, -cost\n"
   ]
  },
  {
   "cell_type": "code",
   "execution_count": 101,
   "id": "376d8244",
   "metadata": {},
   "outputs": [
    {
     "name": "stdout",
     "output_type": "stream",
     "text": [
      "(0, 0)\n",
      "0 (2551, -2)\n",
      "0 (2563, -2)\n",
      "0 (2605, -2)\n",
      "0 (2613, -2)\n",
      "0 (2618, -2)\n",
      "0 (2622, -2)\n",
      "0 (2627, -2)\n",
      "0 (2655, -2)\n",
      "0 (2656, -2)\n",
      "0 (2667, -2)\n",
      "0 (2668, -2)\n",
      "0 (2683, -2)\n",
      "0 (2690, -2)\n",
      "1 (3833, -4)\n",
      "1 (3904, -4)\n",
      "1 (3932, -4)\n",
      "1 (3948, -4)\n",
      "1 (3962, -4)\n",
      "1 (3966, -4)\n",
      "2 (4499, -6)\n",
      "2 (4504, -6)\n",
      "2 (4516, -6)\n",
      "2 (4521, -6)\n",
      "2 (4525, -6)\n",
      "2 (4541, -6)\n",
      "2 (4546, -6)\n",
      "2 (4550, -6)\n",
      "2 (4552, -6)\n",
      "3 (4787, -8)\n",
      "3 (4797, -8)\n",
      "3 (4812, -8)\n",
      "3 (4814, -8)\n",
      "3 (4815, -8)\n",
      "4 (4899, -10)\n",
      "4 (4911, -10)\n",
      "4 (4913, -10)\n",
      "4 (4924, -10)\n",
      "4 (4925, -10)\n",
      "4 (4929, -10)\n",
      "4 (4930, -10)\n",
      "4 (4931, -10)\n",
      "4 (4933, -10)\n",
      "4 (4934, -10)\n",
      "5 (4962, -12)\n",
      "5 (4965, -12)\n",
      "5 (4977, -12)\n",
      "5 (4978, -12)\n",
      "5 (4980, -12)\n",
      "5 (4981, -12)\n",
      "5 (4982, -12)\n",
      "5 (4985, -12)\n",
      "6 (4991, -14)\n",
      "6 (4994, -14)\n",
      "6 (4998, -14)\n",
      "6 (4999, -14)\n",
      "7 (5000, -16)\n"
     ]
    },
    {
     "ename": "KeyboardInterrupt",
     "evalue": "",
     "output_type": "error",
     "traceback": [
      "\u001b[1;31m---------------------------------------------------------------------------\u001b[0m",
      "\u001b[1;31mKeyboardInterrupt\u001b[0m                         Traceback (most recent call last)",
      "\u001b[1;32md:\\GitHub\\computational-intelligence-PoliTO\\Laboratory Activities\\Halloween.ipynb Cella 33\u001b[0m line \u001b[0;36m2\n\u001b[0;32m     <a href='vscode-notebook-cell:/d%3A/GitHub/computational-intelligence-PoliTO/Laboratory%20Activities/Halloween.ipynb#X43sZmlsZQ%3D%3D?line=26'>27</a>\u001b[0m index_list \u001b[39m=\u001b[39m sample(\u001b[39mrange\u001b[39m(\u001b[39m0\u001b[39m, PROBLEM_SIZE \u001b[39m-\u001b[39m \u001b[39m1\u001b[39m), \u001b[39m2\u001b[39m)\n\u001b[0;32m     <a href='vscode-notebook-cell:/d%3A/GitHub/computational-intelligence-PoliTO/Laboratory%20Activities/Halloween.ipynb#X43sZmlsZQ%3D%3D?line=27'>28</a>\u001b[0m new_state \u001b[39m=\u001b[39m tweak(current_state, index_list)\n\u001b[1;32m---> <a href='vscode-notebook-cell:/d%3A/GitHub/computational-intelligence-PoliTO/Laboratory%20Activities/Halloween.ipynb#X43sZmlsZQ%3D%3D?line=28'>29</a>\u001b[0m \u001b[39mif\u001b[39;00m fitness2(new_state) \u001b[39m>\u001b[39m fitness2(candidate_state):\n\u001b[0;32m     <a href='vscode-notebook-cell:/d%3A/GitHub/computational-intelligence-PoliTO/Laboratory%20Activities/Halloween.ipynb#X43sZmlsZQ%3D%3D?line=29'>30</a>\u001b[0m     missing_steps \u001b[39m=\u001b[39m \u001b[39m0\u001b[39m\n\u001b[0;32m     <a href='vscode-notebook-cell:/d%3A/GitHub/computational-intelligence-PoliTO/Laboratory%20Activities/Halloween.ipynb#X43sZmlsZQ%3D%3D?line=30'>31</a>\u001b[0m     candidate_state \u001b[39m=\u001b[39m new_state\n",
      "\u001b[1;32md:\\GitHub\\computational-intelligence-PoliTO\\Laboratory Activities\\Halloween.ipynb Cella 33\u001b[0m line \u001b[0;36m1\n\u001b[0;32m      <a href='vscode-notebook-cell:/d%3A/GitHub/computational-intelligence-PoliTO/Laboratory%20Activities/Halloween.ipynb#X43sZmlsZQ%3D%3D?line=8'>9</a>\u001b[0m \u001b[39mdef\u001b[39;00m \u001b[39mfitness2\u001b[39m(state):\n\u001b[0;32m     <a href='vscode-notebook-cell:/d%3A/GitHub/computational-intelligence-PoliTO/Laboratory%20Activities/Halloween.ipynb#X43sZmlsZQ%3D%3D?line=9'>10</a>\u001b[0m     cost \u001b[39m=\u001b[39m \u001b[39msum\u001b[39m(state)\n\u001b[0;32m     <a href='vscode-notebook-cell:/d%3A/GitHub/computational-intelligence-PoliTO/Laboratory%20Activities/Halloween.ipynb#X43sZmlsZQ%3D%3D?line=10'>11</a>\u001b[0m     valid \u001b[39m=\u001b[39m np\u001b[39m.\u001b[39msum(\n\u001b[1;32m---> <a href='vscode-notebook-cell:/d%3A/GitHub/computational-intelligence-PoliTO/Laboratory%20Activities/Halloween.ipynb#X43sZmlsZQ%3D%3D?line=11'>12</a>\u001b[0m         reduce(\n\u001b[0;32m     <a href='vscode-notebook-cell:/d%3A/GitHub/computational-intelligence-PoliTO/Laboratory%20Activities/Halloween.ipynb#X43sZmlsZQ%3D%3D?line=12'>13</a>\u001b[0m             np\u001b[39m.\u001b[39;49mlogical_or,\n\u001b[0;32m     <a href='vscode-notebook-cell:/d%3A/GitHub/computational-intelligence-PoliTO/Laboratory%20Activities/Halloween.ipynb#X43sZmlsZQ%3D%3D?line=13'>14</a>\u001b[0m             [SETS[i] \u001b[39mfor\u001b[39;49;00m i, t \u001b[39min\u001b[39;49;00m \u001b[39menumerate\u001b[39;49m(state) \u001b[39mif\u001b[39;49;00m t],\n\u001b[0;32m     <a href='vscode-notebook-cell:/d%3A/GitHub/computational-intelligence-PoliTO/Laboratory%20Activities/Halloween.ipynb#X43sZmlsZQ%3D%3D?line=14'>15</a>\u001b[0m             np\u001b[39m.\u001b[39;49marray([\u001b[39mFalse\u001b[39;49;00m \u001b[39mfor\u001b[39;49;00m _ \u001b[39min\u001b[39;49;00m \u001b[39mrange\u001b[39;49m(PROBLEM_SIZE)]),\n\u001b[0;32m     <a href='vscode-notebook-cell:/d%3A/GitHub/computational-intelligence-PoliTO/Laboratory%20Activities/Halloween.ipynb#X43sZmlsZQ%3D%3D?line=15'>16</a>\u001b[0m         )\n\u001b[0;32m     <a href='vscode-notebook-cell:/d%3A/GitHub/computational-intelligence-PoliTO/Laboratory%20Activities/Halloween.ipynb#X43sZmlsZQ%3D%3D?line=16'>17</a>\u001b[0m     )\n\u001b[0;32m     <a href='vscode-notebook-cell:/d%3A/GitHub/computational-intelligence-PoliTO/Laboratory%20Activities/Halloween.ipynb#X43sZmlsZQ%3D%3D?line=17'>18</a>\u001b[0m     \u001b[39mreturn\u001b[39;00m valid, \u001b[39m-\u001b[39mcost\n",
      "\u001b[1;31mKeyboardInterrupt\u001b[0m: "
     ]
    }
   ],
   "source": [
    "current_state = [False for _ in range(PROBLEM_SIZE)]\n",
    "candidate_state = current_state\n",
    "star_state = None\n",
    "\n",
    "print(fitness2(current_state))\n",
    "count_fitness = 0\n",
    "best_states = []\n",
    "to_append = False\n",
    "\n",
    "for step in range(1_000):\n",
    "    candidate_state = current_state\n",
    "\n",
    "    if missing_steps >= 5:\n",
    "        if star_state is None or fitness2(star_state) > fitness2(star_state):\n",
    "            star_state = copy(current_state)\n",
    "\n",
    "        heavy_index_list = sample(range(0, PROBLEM_SIZE - 1), int(abs(fitness2(current_state)[1]/2)))\n",
    "        print(\"Tried 5 times, no improvement...\")\n",
    "        current_state = [False for _ in range(PROBLEM_SIZE)]\n",
    "        current_state = tweak(current_state, heavy_index_list) \n",
    "        candidate_state = current_state\n",
    "\n",
    "        missing_steps = 0\n",
    "        to_append = False\n",
    "\n",
    "    for i in range(10_000):\n",
    "        index_list = sample(range(0, PROBLEM_SIZE - 1), 2)\n",
    "        new_state = tweak(current_state, index_list)\n",
    "        if fitness2(new_state) > fitness2(candidate_state):\n",
    "            missing_steps = 0\n",
    "            candidate_state = new_state\n",
    "            to_append = True\n",
    "            print(step, fitness2(candidate_state))\n",
    "        \n",
    "    if current_state is not candidate_state:\n",
    "        count_fitness += 1\n",
    "        current_state = candidate_state\n",
    "    else: \n",
    "        missing_steps += 1 \n",
    "\n",
    "print(\"fitness_value:\", fitness2(current_state)) if star_state is None else print(\"fitness_value:\", fitness2(star_state))\n",
    "print(\"count_fitness: \", count_fitness)"
   ]
  }
 ],
 "metadata": {
  "kernelspec": {
   "display_name": "Python 3 (ipykernel)",
   "language": "python",
   "name": "python3"
  },
  "language_info": {
   "codemirror_mode": {
    "name": "ipython",
    "version": 3
   },
   "file_extension": ".py",
   "mimetype": "text/x-python",
   "name": "python",
   "nbconvert_exporter": "python",
   "pygments_lexer": "ipython3",
   "version": "3.10.11"
  }
 },
 "nbformat": 4,
 "nbformat_minor": 5
}
