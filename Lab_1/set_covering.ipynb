{
 "cells": [
  {
   "cell_type": "markdown",
   "metadata": {},
   "source": [
    "# Lab 1 - A*\n",
    "\n",
    "An implementation of the A* search algorithm ideated and programmed by **Claudio Savelli (s)** & **Mattia Sabato (s305849)** during a cold and rainy October. We have designed the algorithm in order to not only reach the goal in the **fastest way** but also in a **smart way**. We achieve this by reducing the number of overlappings and by forcing a solution which has the less number of shared points in the sets considered."
   ]
  },
  {
   "cell_type": "code",
   "execution_count": 75,
   "metadata": {},
   "outputs": [],
   "source": [
    "from random import random\n",
    "from functools import reduce\n",
    "from collections import namedtuple\n",
    "from queue import PriorityQueue, SimpleQueue, LifoQueue\n",
    "from time import time\n",
    "\n",
    "import numpy as np"
   ]
  },
  {
   "cell_type": "code",
   "execution_count": 76,
   "metadata": {},
   "outputs": [],
   "source": [
    "# Set the configuration of the problem.\n",
    "PROBLEM_SIZE = 9    # Number of points to be covered.\n",
    "NUM_SETS = 40       # Number of sets in our pool.\n",
    "ALPHA = 0.3         # Probability for a set to cover one point.\n",
    "\n",
    "State = namedtuple('State', ['taken', 'not_taken'])\n",
    "\n",
    "SETS = tuple(np.array([random() < ALPHA for _ in range(PROBLEM_SIZE)]) \\\n",
    "                for _ in range (NUM_SETS))\n"
   ]
  },
  {
   "cell_type": "code",
   "execution_count": 77,
   "metadata": {},
   "outputs": [],
   "source": [
    "def goal_check(state: namedtuple) -> bool:\n",
    "    '''\n",
    "    Checks whether the problem is solvable and return `False` if not.\n",
    "    '''\n",
    "    return np.all(reduce(np.logical_or, [SETS[i] for i in state.taken], \\\n",
    "                         np.array([False for _ in range(PROBLEM_SIZE)])))\n",
    "\n",
    "\n",
    "def proximity(state: namedtuple) -> int:\n",
    "    '''\n",
    "    Computes the proximity between a candidate state and the goal by\n",
    "    summing the updated number of covered points.\n",
    "    '''\n",
    "    return sum(reduce(np.logical_or, [SETS[i] for i in state.taken],\n",
    "               np.array([False for _ in range(PROBLEM_SIZE)])))\n",
    "\n",
    "\n",
    "def cost(state) -> float:\n",
    "    '''\n",
    "    Computes the cost associated to a candidate state by summing the\n",
    "    overlappings over the same point.\n",
    "    '''\n",
    "    if len(state.taken) == 0:\n",
    "        return 0\n",
    "    else:\n",
    "        return sum(np.array([SETS[i] for i in state.taken]).sum(axis = 0))\n",
    "\n",
    "assert goal_check(State(set(range(NUM_SETS)), set())), 'Problem not solvable'"
   ]
  },
  {
   "cell_type": "code",
   "execution_count": 78,
   "metadata": {},
   "outputs": [
    {
     "name": "stdout",
     "output_type": "stream",
     "text": [
      "Solved in 486 steps (3 tiles) in 594ms\n",
      "State(taken={18, 35, 12}, not_taken={0, 1, 2, 3, 4, 5, 6, 7, 8, 9, 10, 11, 13, 14, 15, 16, 17, 19, 20, 21, 22, 23, 24, 25, 26, 27, 28, 29, 30, 31, 32, 33, 34, 36, 37, 38, 39})\n"
     ]
    }
   ],
   "source": [
    "frontier = PriorityQueue() \n",
    "# frontier = SimpleQueue()\n",
    "# frontier = LifoQueue()\n",
    "\n",
    "state = State(set(), set(range(NUM_SETS)))\n",
    "frontier.put((proximity(state), state))\n",
    "\n",
    "counter = 0\n",
    "_, current_state = frontier.get()\n",
    "\n",
    "tic = time()\n",
    "while not goal_check(current_state): \n",
    "\n",
    "    counter += 1\n",
    "\n",
    "    for action in current_state.not_taken:\n",
    "\n",
    "        new_state = State(current_state.taken ^ {action}, \\\n",
    "                          current_state.not_taken ^ {action})\n",
    "        frontier.put((cost(new_state) - proximity(new_state), new_state))\n",
    "    \n",
    "    _, current_state = frontier.get()\n",
    "    \n",
    "toc = time()\n",
    "\n",
    "print(f'Solved in {counter:,} steps ({len(current_state.taken)} tiles) \\\n",
    "in {(toc - tic)*1000:.0f}ms')\n",
    "print(current_state)"
   ]
  }
 ],
 "metadata": {
  "language_info": {
   "name": "python"
  }
 },
 "nbformat": 4,
 "nbformat_minor": 2
}
