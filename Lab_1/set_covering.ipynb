{
 "cells": [
  {
   "cell_type": "markdown",
   "metadata": {},
   "source": [
    "# Lab 1 - A*\n",
    "\n",
    "Some implementations of the A* search algorithm ideated and programmed by **Claudio Savelli (s)** & **Mattia Sabato (s305849)** during a cold and rainy October. We have designed two algorithms in order to not only reach the goal in the **fastest way** but also in a **smart way**. We achieve this by **reducing the number of overlappings** and by forcing a solution which has the **smallest number of shared points** in the sets considered in the final solution. Even if slower, our solutions show better performances than the one proposed by the Professor when setting the number of overlappings as a major KPI."
   ]
  },
  {
   "cell_type": "markdown",
   "metadata": {},
   "source": [
    "## Methodology\n",
    "\n",
    "Here we describe the two algorithms we have introduced to solve the set covering problem when minimizing the number of overlappings. Even though not perfect, we had a lot of fun while designing them and we hope to improve them further in the near future!\n",
    "\n",
    "- **A\\* with proximity**:\n",
    "\n",
    "    We use as a heuristic the **closeness** between the goal and the candidate state by **summing up** the number of **marginal** points covered by the last. Intuitively, it will be picked the state which will help the most to get close to the final configuration. As a cost, we **sum up** the **point-wise overlappings** over all the sets and them we sum them to obtain a single value which measures how bad is the new state in terms of sovrappositions of tiles.\n",
    "\n",
    "- **A\\* with cosine similarity**:\n",
    "\n",
    "    In this case we use as our heuristic the **cosine similarity** between the candidate state and the goal. Since we can think at each state as a vector in the space, the cosine similarity will increase when two vectors share a **similar direction**, which is a proxy for the state they are characterized by. In a certain sense, we aim to take a sequence of sets that, when summed, **move the resulting vector toward the goal**. As a cost, we use the **norm** of the resulting vector; the intuition is that when there are many overlappings, of course the norm will increase (even though the direction stays the same)."
   ]
  },
  {
   "cell_type": "markdown",
   "metadata": {},
   "source": [
    "## Set up"
   ]
  },
  {
   "cell_type": "code",
   "execution_count": 6,
   "metadata": {},
   "outputs": [],
   "source": [
    "from random import random\n",
    "from functools import reduce\n",
    "from collections import namedtuple, deque\n",
    "from queue import PriorityQueue, SimpleQueue\n",
    "from time import time\n",
    "from math import ceil\n",
    "from tqdm.auto import tqdm\n",
    "from random import seed\n",
    "from sklearn.metrics.pairwise import cosine_similarity\n",
    "\n",
    "import matplotlib.pyplot as plt\n",
    "import numpy as np"
   ]
  },
  {
   "cell_type": "code",
   "execution_count": 7,
   "metadata": {},
   "outputs": [],
   "source": [
    "# Define the configuration of the problem.\n",
    "PROBLEM_SIZE = 32     # Number of points to be covered.\n",
    "NUM_SETS = 200       # Number of sets in our pool.\n",
    "ALPHA = 0.2          # Probability for a set to cover one point.\n",
    "\n",
    "State = namedtuple('State', ['taken', 'not_taken'])\n",
    "\n",
    "seed(42)\n",
    "SETS = tuple(np.array([random() < ALPHA for _ in range(PROBLEM_SIZE)]) \\\n",
    "                for _ in range (NUM_SETS))"
   ]
  },
  {
   "cell_type": "code",
   "execution_count": 8,
   "metadata": {},
   "outputs": [],
   "source": [
    "def goal_check(state: namedtuple) -> bool:\n",
    "    '''\n",
    "    Checks whether the problem is solvable and return `False` if not.\n",
    "    '''\n",
    "    return np.all(reduce(np.logical_or, [SETS[i] for i in state.taken], \\\n",
    "                         np.array([False for _ in range(PROBLEM_SIZE)])))\n",
    "\n",
    "\n",
    "def proximity(state: namedtuple) -> int:\n",
    "    '''\n",
    "    Computes the proximity between a candidate state and the goal by\n",
    "    summing the updated number of covered points.\n",
    "    '''\n",
    "    return sum(reduce(np.logical_or, [SETS[i] for i in state.taken],\n",
    "               np.array([False for _ in range(PROBLEM_SIZE)])))\n",
    "\n",
    "\n",
    "def cost(state: namedtuple) -> float:\n",
    "    '''\n",
    "    Computes the cost associated to a candidate state by summing the\n",
    "    overlappings over the same point.\n",
    "    '''\n",
    "    if len(state.taken) <= 1:\n",
    "        return 0\n",
    "    elif 0 in np.array(take_state_from_set(state.taken)).sum(axis = 1):\n",
    "        return np.inf\n",
    "    else:\n",
    "\n",
    "        state_vector = (np.array([SETS[i] for i in state.taken]).sum(axis = 0))\n",
    "        state_vector[state_vector > 1]\n",
    "        return sum(state_vector[state_vector > 1] - 1)\n",
    "\n",
    "\n",
    "def count_overlappings(state: namedtuple) -> int:\n",
    "    '''\n",
    "    Computes the total number of overlappings returned by the current state.\n",
    "    '''\n",
    "    if len(state.taken) <= 1:\n",
    "        return 0\n",
    "    else:\n",
    "        return cost(state)\n",
    "\n",
    "\n",
    "def visualize_state(state: namedtuple, title: str) -> None:\n",
    "    '''\n",
    "    Visualize how does the state look like. Thanks Beatrice Occhiena!\n",
    "    [https://github.com/beatrice-occhiena](https://github.com/beatrice-occhiena)\n",
    "    '''\n",
    "    plt.figure(figsize = (7, 2))\n",
    "    plt.imshow(take_state_from_set(state.taken), cmap = 'RdPu', aspect = 'auto')\n",
    "    plt.title(title)\n",
    "    plt.xlabel(\"Problem Elements\")\n",
    "    plt.xticks(np.arange(PROBLEM_SIZE))\n",
    "    plt.ylabel(\"Taken Sets\")\n",
    "    \n",
    "    # On the ticks of the y axis, show the indices of the taken sets\n",
    "    plt.yticks(np.arange(len(state.taken)), list(state.taken))\n",
    "    plt.show()\n",
    "\n",
    "\n",
    "def covered(state: namedtuple) -> np.ndarray:\n",
    "    '''\n",
    "    Returns an array of `bool` specifying whether a point has\n",
    "    been covered or not.\n",
    "    '''\n",
    "    return reduce(np.logical_or, [SETS[i] for i in state.taken],\n",
    "                  np.array([False for _ in range(PROBLEM_SIZE)]))\n",
    "\n",
    "\n",
    "def h_prof_c_prof(state: namedtuple, h: str = 'h3') -> int:\n",
    "    '''\n",
    "    Choose from a family of herustics. Possible choices make use \n",
    "    of the distance between the goal and the candidate set in different ways :\n",
    "    - `h1`, considers the biggest set;\n",
    "    - `h2`, considers the biggest set which has not been taken yet;\n",
    "    - `h3`, considers also the order.\n",
    "\n",
    "    Here the associated cost is simply the number of states taken.\n",
    "    '''\n",
    "    \n",
    "    if h == 'h1':\n",
    "\n",
    "        largest_set_size = max(sum(s) for s in SETS)\n",
    "        missing_size = PROBLEM_SIZE - sum(covered(state))\n",
    "        optimistic_estimate = ceil(missing_size / largest_set_size) \n",
    "        \n",
    "        return len(state.taken) + optimistic_estimate\n",
    "    \n",
    "    elif h == 'h2':\n",
    "\n",
    "        already_covered = covered(state)\n",
    "        \n",
    "        if np.all(already_covered):\n",
    "            return 0\n",
    "        \n",
    "        largest_set_size = max(sum(np.logical_and(s, np.logical_not(already_covered))) for s in SETS)\n",
    "        missing_size = PROBLEM_SIZE - sum(already_covered)\n",
    "        optimistic_estimate = ceil(missing_size / largest_set_size)\n",
    "        \n",
    "        return len(state.taken) + optimistic_estimate\n",
    "    \n",
    "    elif h == 'h3':\n",
    "\n",
    "        already_covered = covered(state)\n",
    "    \n",
    "        if np.all(already_covered):\n",
    "            return 0\n",
    "        \n",
    "        missing_size = PROBLEM_SIZE - sum(already_covered)\n",
    "        candidates = sorted((sum(np.logical_and(s, np.logical_not(already_covered))) for s in SETS),\n",
    "                            reverse = True)\n",
    "        taken = 1\n",
    "        \n",
    "        while sum(candidates[:taken]) < missing_size:\n",
    "            taken += 1\n",
    "        \n",
    "        return len(state.taken) + taken\n",
    "    \n",
    "\n",
    "def take_state_from_set(state: set) -> list: \n",
    "    '''\n",
    "    Takes as input the id of each state and returns a matrix where:\n",
    "    - each row is a state;\n",
    "    - each column is a point;\n",
    "    - the value represent whether the point is covered by the set.\n",
    "\n",
    "    Useful for visualization purposes.\n",
    "    '''\n",
    "    res = []\n",
    "    for elem in state:\n",
    "        res.append(SETS[elem])\n",
    "    return res\n",
    "\n",
    "\n",
    "def naive_distance(state: namedtuple) -> int:\n",
    "    '''\n",
    "    Simply returns the number of uncovered states.\n",
    "    '''\n",
    "    return PROBLEM_SIZE - sum(covered(state))\n",
    "\n",
    "\n",
    "def cos_similarity(state: namedtuple) -> float:\n",
    "    '''\n",
    "    Computes the cosine similarity between the actual state and the goal.\n",
    "    '''\n",
    "    return cosine_similarity(X = np.array(covered(state) * 1).reshape(1, -1),\n",
    "                             Y = np.array([1 for _ in range(PROBLEM_SIZE)]).reshape(1, -1))\n",
    "\n",
    "\n",
    "def cost_cos(state: namedtuple) -> float:\n",
    "    '''\n",
    "    Computes the cost considering the norm of the vector in order to avoid overlappings.\n",
    "    '''\n",
    "    if len(state.taken) <= 1:\n",
    "        return 0\n",
    "    elif 0 in np.array(take_state_from_set(state.taken)).sum(axis = 1):\n",
    "        return np.inf\n",
    "    else: \n",
    "        state_vector = (np.array([SETS[i] for i in state.taken]).sum(axis = 0))\n",
    "        state_vector[state_vector == 1] = 0\n",
    "        state_vector[state_vector > 0] = state_vector[state_vector > 0] - 1\n",
    "        return np.linalg.norm(state_vector) / np.linalg.norm([1 for _ in range(PROBLEM_SIZE)])\n",
    "\n",
    "    \n",
    "assert goal_check(State(set(range(NUM_SETS)), set())), 'Problem not solvable'"
   ]
  },
  {
   "cell_type": "markdown",
   "metadata": {},
   "source": [
    "## Experimental Results\n",
    "\n",
    "Here we prove some results about the performance of our algorithms using as a baseline the one provided by the Prof. Notice there is a **huge** difference in terms of **speed** between the solutions, and this was actually expected since in our we are imposing stricter conditions and so more computations. Our algorithms may benefit a lot from some fort of further optimization, but due to lack of time we were not able to implement it. Still, given our goal, the results is **more than satisfactory**! We actually were able to **minimize the overlappings** and reach the goal with a **small enough number of sets**. Given the premises and the requirements, it is a success! We have won, Prof...\n",
    "\n",
    "...or, at least, let us believe it.\n",
    "\n",
    "P.S.: we would like to say **THANK YOU** to [Beatrice Occhiena](https://github.com/beatrice-occhiena), from which we have borrowed the function used to plot the sets. Good job!"
   ]
  },
  {
   "cell_type": "markdown",
   "metadata": {},
   "source": [
    "| SIZE  | ALPHA | STRATEGY                       | STEPS                    | TILES                   | OVERLAPPINGS            | OVERLAPPINGS/TILES               |\n",
    "|:-----:|:-----:|:------------------------------:|:------------------------:|:-----------------------:|:-----------------------:|:--------------------------------:|\n",
    "| 16    | 0.2   | prof <br>**prox** <br> **cos** | 44 <br> **4** <br> **4** | 3 <br> **4** <br> **4** | 3 <br> **0** <br> **0** | 1.00 <br> **0.00** <br> **0.00** |\n",
    "| 24    | 0.2   | prof <br>prox <br> cos         | 86 <br> 5 <br>           | 4 <br> 5 <br>           | 11 <br> 3 <br>          | 2.75 <br> 0.60 <br>              |\n",
    "| 32    | 0.2   | prof <br>prox <br> cos         | 635 <br> 7 <br>          | 4 <br> 6 <br>           | 9 <br> 4 <br>           | 2.25 <br> 0.67 <br>              |\n",
    "| 16    | 0.4   | prof <br>prox <br> **cos**     | 2 <br> 5 <br> **21**     | 2 <br> 3 <br> **3**     | 3 <br> 2 <br> **1**     | 1.50 <br> 0.67 <br> **0.33**     |\n",
    "| 24    | 0.4   | **prof** <br>prox <br> **cos** | **2** <br> 33 <br> **2** | **2** <br> 4 <br> **2** | **1** <br> 8 <br> **1** | **0.50** <br> 2.00 <br> **0.50** |\n",
    "| 32    | 0.4   | prof <br>prox <br> **cos**     | 13 <br> 22 <br> **1394** | 3 <br> 3 <br> **3**     | 12 <br> 10 <br> **6**   | 4.00 <br> 3.33 <br> **2.00**     |\n",
    "| 16    | 0.6   | prof <br>prox <br> **cos**     | 2 <br> 6 <br> **115**    | 2 <br> 2 <br> **2**     | 8 <br> 3 <br> **1**     | 4.00 <br> 1.50 <br> **0.50**     |\n",
    "| 24    | 0.6   | prof <br>prox <br> **cos**     | 2 <br> 13 <br> **262**   | 2 <br> 2 <br> **2**     | 10 <br> 6 <br> **4**    | 5.00 <br> 3.00 <br> **2.00**     |\n",
    "| 32    | 0.6   | prof <br>prox <br> **cos**     | 2 <br> 19 <br> **305**   | 2 <br> 2 <br> **2**     | 11 <br> 9 <br> **7**    | 5.50 <br> 4.50 <br> **3.50**     |\n",
    "\n",
    " "
   ]
  },
  {
   "cell_type": "markdown",
   "metadata": {},
   "source": [
    "### Baseline (Prof solution)"
   ]
  },
  {
   "cell_type": "code",
   "execution_count": null,
   "metadata": {},
   "outputs": [
    {
     "name": "stderr",
     "output_type": "stream",
     "text": [
      "0it [00:00, ?it/s]"
     ]
    },
    {
     "name": "stderr",
     "output_type": "stream",
     "text": [
      "635it [03:07,  3.38it/s]\n"
     ]
    },
    {
     "name": "stdout",
     "output_type": "stream",
     "text": [
      "Solved in 635 steps (4 tiles) in 187910ms\n",
      "Sets: {106, 75, 172, 94}\n",
      "Overlappings: 9\n"
     ]
    },
    {
     "data": {
      "image/png": "[encoded data removed]",
      "text/plain": [
       "<Figure size 700x200 with 1 Axes>"
      ]
     },
     "metadata": {},
     "output_type": "display_data"
    }
   ],
   "source": [
    "# BASELINE\n",
    "frontier = PriorityQueue() \n",
    "state = State(set(), set(range(NUM_SETS)))\n",
    "frontier.put((h_prof_c_prof(state), state))\n",
    "\n",
    "counter = 0\n",
    "_, current_state_prof = frontier.get()\n",
    "\n",
    "tic = time()\n",
    "\n",
    "with tqdm(total = None) as pbar:\n",
    "    while not goal_check(current_state_prof): \n",
    "\n",
    "        counter += 1\n",
    "\n",
    "        for action in current_state_prof.not_taken:\n",
    "\n",
    "            new_state = State(current_state_prof.taken ^ {action},\n",
    "                              current_state_prof.not_taken ^ {action})\n",
    "            frontier.put((h_prof_c_prof(new_state), new_state))\n",
    "        \n",
    "        _, current_state_prof = frontier.get()\n",
    "        pbar.update(1)\n",
    "\n",
    "toc = time()\n",
    "\n",
    "print(f'Solved in {counter} steps ({len(current_state_prof.taken)} tiles) \\\n",
    "in {(toc - tic)*1000:.0f}ms')\n",
    "print(f'Sets: {current_state_prof.taken}')\n",
    "print(f'Overlappings: {count_overlappings(current_state_prof)}')\n",
    "\n",
    "visualize_state(current_state_prof, 'Prof')"
   ]
  },
  {
   "cell_type": "markdown",
   "metadata": {},
   "source": [
    "### A* with proximity"
   ]
  },
  {
   "cell_type": "code",
   "execution_count": null,
   "metadata": {},
   "outputs": [
    {
     "name": "stderr",
     "output_type": "stream",
     "text": [
      "7it [00:00, 60.46it/s]\n"
     ]
    },
    {
     "name": "stdout",
     "output_type": "stream",
     "text": [
      "Solved in 7 steps (6 tiles) in 118ms\n",
      "Sets: {107, 112, 20, 52, 123, 28}\n",
      "Overlappings: 4\n"
     ]
    },
    {
     "data": {
      "image/png": "[encoded data removed]",
      "text/plain": [
       "<Figure size 700x200 with 1 Axes>"
      ]
     },
     "metadata": {},
     "output_type": "display_data"
    }
   ],
   "source": [
    "# PROXIMITY\n",
    "frontier = PriorityQueue() \n",
    "state = State(set(), set(range(NUM_SETS)))\n",
    "frontier.put((proximity(state), state))\n",
    "\n",
    "counter = 0\n",
    "_, current_state = frontier.get()\n",
    "\n",
    "tic = time()\n",
    "\n",
    "with tqdm(total = None) as pbar:\n",
    "    while not goal_check(current_state): \n",
    "\n",
    "        counter += 1\n",
    "\n",
    "        for action in current_state.not_taken:\n",
    "\n",
    "            new_state = State(current_state.taken ^ {action},\n",
    "                              current_state.not_taken ^ {action})\n",
    "            frontier.put((cost(new_state) -  proximity(new_state), new_state))\n",
    "        \n",
    "        _, current_state = frontier.get()\n",
    "        pbar.update(1)\n",
    "    \n",
    "toc = time()\n",
    "\n",
    "print(f'Solved in {counter} steps ({len(current_state.taken)} tiles) \\\n",
    "in {(toc - tic)*1000:.0f}ms')\n",
    "print(f'Sets: {current_state.taken}')\n",
    "print(f'Overlappings: {count_overlappings(current_state)}')\n",
    "\n",
    "visualize_state(current_state, 'Us')"
   ]
  },
  {
   "cell_type": "markdown",
   "metadata": {},
   "source": [
    "### A* with cosine similarity"
   ]
  },
  {
   "cell_type": "code",
   "execution_count": 54,
   "metadata": {},
   "outputs": [
    {
     "name": "stderr",
     "output_type": "stream",
     "text": [
      "0it [00:00, ?it/s]"
     ]
    },
    {
     "name": "stderr",
     "output_type": "stream",
     "text": [
      "305it [00:38,  7.98it/s]\n"
     ]
    },
    {
     "name": "stdout",
     "output_type": "stream",
     "text": [
      "Solved in 305 steps (2 tiles) in 38206ms\n",
      "Sets: {193, 146}\n",
      "Overlappings: 7\n"
     ]
    },
    {
     "data": {
      "image/png": "[encoded data removed]",
      "text/plain": [
       "<Figure size 700x200 with 1 Axes>"
      ]
     },
     "metadata": {},
     "output_type": "display_data"
    }
   ],
   "source": [
    "# COSINE SIMILARITY\n",
    "frontier = PriorityQueue() \n",
    "state = State(set(), set(range(NUM_SETS)))\n",
    "frontier.put((proximity(state), state))\n",
    "\n",
    "counter = 0\n",
    "_, current_state = frontier.get()\n",
    "\n",
    "tic = time()\n",
    "\n",
    "with tqdm(total = None) as pbar:\n",
    "    while not goal_check(current_state): \n",
    "\n",
    "        counter += 1\n",
    "\n",
    "        for action in current_state.not_taken:\n",
    "\n",
    "            new_state = State(current_state.taken ^ {action},\n",
    "                              current_state.not_taken ^ {action})\n",
    "            frontier.put((cost_cos(new_state) - cos_similarity(new_state), new_state))\n",
    "        \n",
    "        _, current_state = frontier.get()\n",
    "        pbar.update(1)\n",
    "\n",
    "toc = time()\n",
    "\n",
    "print(f'Solved in {counter} steps ({len(current_state.taken)} tiles) \\\n",
    "in {(toc - tic)*1000:.0f}ms')\n",
    "print(f'Sets: {current_state.taken}')\n",
    "print(f'Overlappings: {count_overlappings(current_state)}')\n",
    "\n",
    "visualize_state(current_state, 'Us')"
   ]
  },
  {
   "cell_type": "markdown",
   "metadata": {},
   "source": [
    "## Additional\n",
    "\n",
    "Here we have analyzed also other search algorithms in order to show their performance in terms of overlappings. Our solutions outperform all of them, even though more slowly sometimes."
   ]
  },
  {
   "cell_type": "markdown",
   "metadata": {},
   "source": [
    "### Breadth-First"
   ]
  },
  {
   "cell_type": "code",
   "execution_count": 9,
   "metadata": {},
   "outputs": [
    {
     "name": "stderr",
     "output_type": "stream",
     "text": [
      "341it [00:01, 247.12it/s]\n"
     ]
    },
    {
     "ename": "KeyboardInterrupt",
     "evalue": "",
     "output_type": "error",
     "traceback": [
      "\u001b[1;31m---------------------------------------------------------------------------\u001b[0m",
      "\u001b[1;31mKeyboardInterrupt\u001b[0m                         Traceback (most recent call last)",
      "\u001b[1;32mc:\\Users\\Mattia\\Desktop\\Computational_Intelligence_2023-2024\\Lab_1\\set_covering.ipynb Cell 14\u001b[0m line \u001b[0;36m1\n\u001b[0;32m     <a href='vscode-notebook-cell:/c%3A/Users/Mattia/Desktop/Computational_Intelligence_2023-2024/Lab_1/set_covering.ipynb#X22sZmlsZQ%3D%3D?line=12'>13</a>\u001b[0m counter \u001b[39m+\u001b[39m\u001b[39m=\u001b[39m \u001b[39m1\u001b[39m\n\u001b[0;32m     <a href='vscode-notebook-cell:/c%3A/Users/Mattia/Desktop/Computational_Intelligence_2023-2024/Lab_1/set_covering.ipynb#X22sZmlsZQ%3D%3D?line=14'>15</a>\u001b[0m \u001b[39mfor\u001b[39;00m action \u001b[39min\u001b[39;00m current_state_bf\u001b[39m.\u001b[39mnot_taken:\n\u001b[1;32m---> <a href='vscode-notebook-cell:/c%3A/Users/Mattia/Desktop/Computational_Intelligence_2023-2024/Lab_1/set_covering.ipynb#X22sZmlsZQ%3D%3D?line=16'>17</a>\u001b[0m     new_state \u001b[39m=\u001b[39m State(\n\u001b[0;32m     <a href='vscode-notebook-cell:/c%3A/Users/Mattia/Desktop/Computational_Intelligence_2023-2024/Lab_1/set_covering.ipynb#X22sZmlsZQ%3D%3D?line=17'>18</a>\u001b[0m         current_state_bf\u001b[39m.\u001b[39;49mtaken \u001b[39m^\u001b[39;49m {action},\n\u001b[0;32m     <a href='vscode-notebook-cell:/c%3A/Users/Mattia/Desktop/Computational_Intelligence_2023-2024/Lab_1/set_covering.ipynb#X22sZmlsZQ%3D%3D?line=18'>19</a>\u001b[0m         current_state_bf\u001b[39m.\u001b[39;49mnot_taken \u001b[39m^\u001b[39;49m {action})\n\u001b[0;32m     <a href='vscode-notebook-cell:/c%3A/Users/Mattia/Desktop/Computational_Intelligence_2023-2024/Lab_1/set_covering.ipynb#X22sZmlsZQ%3D%3D?line=19'>20</a>\u001b[0m     frontier\u001b[39m.\u001b[39mput(new_state)\n\u001b[0;32m     <a href='vscode-notebook-cell:/c%3A/Users/Mattia/Desktop/Computational_Intelligence_2023-2024/Lab_1/set_covering.ipynb#X22sZmlsZQ%3D%3D?line=21'>22</a>\u001b[0m current_state_bf \u001b[39m=\u001b[39m frontier\u001b[39m.\u001b[39mget()\n",
      "File \u001b[1;32m<string>:1\u001b[0m, in \u001b[0;36m<lambda>\u001b[1;34m(_cls, taken, not_taken)\u001b[0m\n",
      "\u001b[1;31mKeyboardInterrupt\u001b[0m: "
     ]
    }
   ],
   "source": [
    "# BREADTH-FIRST\n",
    "frontier = SimpleQueue()\n",
    "state = State(set(), set(range(NUM_SETS)))\n",
    "frontier.put(state)\n",
    "\n",
    "counter = 0\n",
    "current_state_bf = frontier.get()\n",
    "\n",
    "tic = time()\n",
    "\n",
    "with tqdm(total = None) as pbar:\n",
    "    while not goal_check(current_state_bf):\n",
    "        \n",
    "        counter += 1\n",
    "        \n",
    "        for action in current_state_bf.not_taken:\n",
    "            \n",
    "            new_state = State(\n",
    "                current_state_bf.taken ^ {action},\n",
    "                current_state_bf.not_taken ^ {action})\n",
    "            frontier.put(new_state)\n",
    "        \n",
    "        current_state_bf = frontier.get()\n",
    "        pbar.update(1)\n",
    "\n",
    "toc = time()\n",
    "\n",
    "print(f'Solved in {counter} steps ({len(current_state_bf.taken)} tiles) \\\n",
    "in {(toc - tic)*1000:.0f}ms')\n",
    "print(f'Sets: {current_state_bf.taken}')\n",
    "print(f'Overlappings: {count_overlappings(current_state_bf)}')\n",
    "\n",
    "visualize_state(current_state_bf, 'Breadth-First')"
   ]
  },
  {
   "cell_type": "markdown",
   "metadata": {},
   "source": [
    "### Depth-First"
   ]
  },
  {
   "cell_type": "code",
   "execution_count": 8,
   "metadata": {},
   "outputs": [
    {
     "name": "stderr",
     "output_type": "stream",
     "text": [
      "16it [00:00, 397.64it/s]\n"
     ]
    },
    {
     "name": "stdout",
     "output_type": "stream",
     "text": [
      "Solved in 16 steps (16 tiles) in 40ms\n",
      "Sets: {192, 193, 194, 195, 196, 197, 198, 199, 184, 185, 186, 187, 188, 189, 190, 191}\n",
      "Overlappings: 45\n"
     ]
    },
    {
     "data": {
      "image/png": "[encoded data removed]",
      "text/plain": [
       "<Figure size 700x200 with 1 Axes>"
      ]
     },
     "metadata": {},
     "output_type": "display_data"
    }
   ],
   "source": [
    "# DEPTH-FIRST\n",
    "frontier = deque()\n",
    "state = State(set(), set(range(NUM_SETS)))\n",
    "frontier.append(state)\n",
    "\n",
    "counter = 0\n",
    "current_state_df = frontier.pop()\n",
    "\n",
    "tic = time()\n",
    "\n",
    "with tqdm(total = None) as pbar:\n",
    "    while not goal_check(current_state_df):\n",
    "\n",
    "        counter += 1\n",
    "        \n",
    "        for action in current_state_df[1]:\n",
    "            \n",
    "            new_state = State(current_state_df.taken ^ {action},\n",
    "                              current_state_df.not_taken ^ {action})\n",
    "            frontier.append(new_state)\n",
    "            \n",
    "        current_state_df = frontier.pop()\n",
    "        pbar.update(1)\n",
    "\n",
    "toc = time()\n",
    "\n",
    "print(f'Solved in {counter} steps ({len(current_state_df.taken)} tiles) \\\n",
    "in {(toc - tic)*1000:.0f}ms')\n",
    "print(f'Sets: {current_state_df.taken}')\n",
    "print(f'Overlappings: {count_overlappings(current_state_df)}')\n",
    "\n",
    "visualize_state(current_state_df, 'Depth-First')"
   ]
  },
  {
   "cell_type": "markdown",
   "metadata": {},
   "source": [
    "### Greedy Best-First"
   ]
  },
  {
   "cell_type": "code",
   "execution_count": 9,
   "metadata": {},
   "outputs": [
    {
     "name": "stderr",
     "output_type": "stream",
     "text": [
      "0it [00:00, ?it/s]"
     ]
    },
    {
     "name": "stderr",
     "output_type": "stream",
     "text": [
      "4it [00:00, 138.28it/s]\n"
     ]
    },
    {
     "name": "stdout",
     "output_type": "stream",
     "text": [
      "Solved in 4 steps (4 tiles) in 33ms\n",
      "Sets: {0, 129, 51, 21}\n",
      "Overlappings: 7\n"
     ]
    },
    {
     "data": {
      "image/png": "[encoded data removed]",
      "text/plain": [
       "<Figure size 700x200 with 1 Axes>"
      ]
     },
     "metadata": {},
     "output_type": "display_data"
    }
   ],
   "source": [
    "# GREEDY BEST-FIRST\n",
    "frontier = PriorityQueue()\n",
    "state = State(set(), set(range(NUM_SETS)))\n",
    "frontier.put((naive_distance(state), state))\n",
    "\n",
    "counter = 0\n",
    "_, current_state_gbf = frontier.get()\n",
    "\n",
    "tic = time()\n",
    "\n",
    "with tqdm(total = None) as pbar:\n",
    "    while not goal_check(current_state_gbf):\n",
    "        \n",
    "        counter += 1\n",
    "        \n",
    "        for action in current_state_gbf[1]:\n",
    "            \n",
    "            new_state = State(\n",
    "                current_state_gbf.taken ^ {action},\n",
    "                current_state_gbf.not_taken ^ {action})\n",
    "            frontier.put((naive_distance(new_state), new_state))\n",
    "        \n",
    "        _, current_state_gbf = frontier.get()\n",
    "        pbar.update(1)\n",
    "\n",
    "toc = time()\n",
    "\n",
    "print(f'Solved in {counter} steps ({len(current_state_gbf.taken)} tiles) \\\n",
    "in {(toc - tic)*1000:.0f}ms')\n",
    "print(f'Sets: {current_state_gbf.taken}')\n",
    "print(f'Overlappings: {count_overlappings(current_state_gbf)}')\n",
    "\n",
    "visualize_state(current_state_gbf, 'Greedy Best-First')"
   ]
  },
  {
   "cell_type": "markdown",
   "metadata": {},
   "source": [
    "### Dijkstra"
   ]
  },
  {
   "cell_type": "code",
   "execution_count": null,
   "metadata": {},
   "outputs": [
    {
     "name": "stderr",
     "output_type": "stream",
     "text": [
      "0it [00:00, ?it/s]"
     ]
    },
    {
     "name": "stderr",
     "output_type": "stream",
     "text": [
      "469it [00:07, 64.83it/s]\n"
     ]
    },
    {
     "ename": "KeyboardInterrupt",
     "evalue": "",
     "output_type": "error",
     "traceback": [
      "\u001b[1;31m---------------------------------------------------------------------------\u001b[0m\n",
      "\u001b[1;31mKeyboardInterrupt\u001b[0m                         Traceback (most recent call last)\n",
      "\u001b[1;32mc:\\Users\\Mattia\\Desktop\\Computational_Intelligence_2023-2024\\Lab_1\\set_covering.ipynb Cell 12\u001b[0m line \u001b[0;36m1\n",
      "\u001b[0;32m     <a href='vscode-notebook-cell:/c%3A/Users/Mattia/Desktop/Computational_Intelligence_2023-2024/Lab_1/set_covering.ipynb#X14sZmlsZQ%3D%3D?line=14'>15</a>\u001b[0m \u001b[39mfor\u001b[39;00m action \u001b[39min\u001b[39;00m current_state\u001b[39m.\u001b[39mnot_taken:\n",
      "\u001b[0;32m     <a href='vscode-notebook-cell:/c%3A/Users/Mattia/Desktop/Computational_Intelligence_2023-2024/Lab_1/set_covering.ipynb#X14sZmlsZQ%3D%3D?line=16'>17</a>\u001b[0m     new_state \u001b[39m=\u001b[39m State(current_state\u001b[39m.\u001b[39mtaken \u001b[39m^\u001b[39m {action},\n",
      "\u001b[0;32m     <a href='vscode-notebook-cell:/c%3A/Users/Mattia/Desktop/Computational_Intelligence_2023-2024/Lab_1/set_covering.ipynb#X14sZmlsZQ%3D%3D?line=17'>18</a>\u001b[0m                       current_state\u001b[39m.\u001b[39mnot_taken \u001b[39m^\u001b[39m {action})\n",
      "\u001b[1;32m---> <a href='vscode-notebook-cell:/c%3A/Users/Mattia/Desktop/Computational_Intelligence_2023-2024/Lab_1/set_covering.ipynb#X14sZmlsZQ%3D%3D?line=18'>19</a>\u001b[0m     frontier\u001b[39m.\u001b[39mput((cost(new_state), new_state))\n",
      "\u001b[0;32m     <a href='vscode-notebook-cell:/c%3A/Users/Mattia/Desktop/Computational_Intelligence_2023-2024/Lab_1/set_covering.ipynb#X14sZmlsZQ%3D%3D?line=20'>21</a>\u001b[0m _, current_state \u001b[39m=\u001b[39m frontier\u001b[39m.\u001b[39mget()\n",
      "\u001b[0;32m     <a href='vscode-notebook-cell:/c%3A/Users/Mattia/Desktop/Computational_Intelligence_2023-2024/Lab_1/set_covering.ipynb#X14sZmlsZQ%3D%3D?line=21'>22</a>\u001b[0m pbar\u001b[39m.\u001b[39mupdate(\u001b[39m1\u001b[39m)\n",
      "\n",
      "\u001b[1;32mc:\\Users\\Mattia\\Desktop\\Computational_Intelligence_2023-2024\\Lab_1\\set_covering.ipynb Cell 12\u001b[0m line \u001b[0;36m2\n",
      "\u001b[0;32m     <a href='vscode-notebook-cell:/c%3A/Users/Mattia/Desktop/Computational_Intelligence_2023-2024/Lab_1/set_covering.ipynb#X14sZmlsZQ%3D%3D?line=25'>26</a>\u001b[0m     \u001b[39mreturn\u001b[39;00m np\u001b[39m.\u001b[39minf\n",
      "\u001b[0;32m     <a href='vscode-notebook-cell:/c%3A/Users/Mattia/Desktop/Computational_Intelligence_2023-2024/Lab_1/set_covering.ipynb#X14sZmlsZQ%3D%3D?line=26'>27</a>\u001b[0m \u001b[39melse\u001b[39;00m:\n",
      "\u001b[1;32m---> <a href='vscode-notebook-cell:/c%3A/Users/Mattia/Desktop/Computational_Intelligence_2023-2024/Lab_1/set_covering.ipynb#X14sZmlsZQ%3D%3D?line=28'>29</a>\u001b[0m     state_vector \u001b[39m=\u001b[39m (np\u001b[39m.\u001b[39;49marray([SETS[i] \u001b[39mfor\u001b[39;49;00m i \u001b[39min\u001b[39;49;00m state\u001b[39m.\u001b[39;49mtaken])\u001b[39m.\u001b[39msum(axis \u001b[39m=\u001b[39m \u001b[39m0\u001b[39m))\n",
      "\u001b[0;32m     <a href='vscode-notebook-cell:/c%3A/Users/Mattia/Desktop/Computational_Intelligence_2023-2024/Lab_1/set_covering.ipynb#X14sZmlsZQ%3D%3D?line=29'>30</a>\u001b[0m     state_vector[state_vector \u001b[39m>\u001b[39m \u001b[39m1\u001b[39m]\n",
      "\u001b[0;32m     <a href='vscode-notebook-cell:/c%3A/Users/Mattia/Desktop/Computational_Intelligence_2023-2024/Lab_1/set_covering.ipynb#X14sZmlsZQ%3D%3D?line=30'>31</a>\u001b[0m     \u001b[39mreturn\u001b[39;00m \u001b[39msum\u001b[39m(state_vector[state_vector \u001b[39m>\u001b[39m \u001b[39m1\u001b[39m] \u001b[39m-\u001b[39m \u001b[39m1\u001b[39m)\n",
      "\n",
      "\u001b[1;31mKeyboardInterrupt\u001b[0m: "
     ]
    }
   ],
   "source": [
    "# DIJKSTRA\n",
    "frontier = PriorityQueue() \n",
    "state = State(set(), set(range(NUM_SETS)))\n",
    "frontier.put((proximity(state), state))\n",
    "\n",
    "counter = 0\n",
    "_, current_state = frontier.get()\n",
    "\n",
    "tic = time()\n",
    "\n",
    "with tqdm(total = None) as pbar:\n",
    "    while not goal_check(current_state): \n",
    "\n",
    "        counter += 1\n",
    "\n",
    "        for action in current_state.not_taken:\n",
    "\n",
    "            new_state = State(current_state.taken ^ {action},\n",
    "                              current_state.not_taken ^ {action})\n",
    "            frontier.put((cost(new_state), new_state))\n",
    "        \n",
    "        _, current_state = frontier.get()\n",
    "        pbar.update(1)\n",
    "    \n",
    "toc = time()\n",
    "\n",
    "print(f'Solved in {counter} steps ({len(current_state.taken)} tiles) \\\n",
    "in {(toc - tic)*1000:.0f}ms')\n",
    "print(f'Sets: {current_state.taken}')\n",
    "print(f'Overlappings: {count_overlappings(current_state)}')\n",
    "\n",
    "visualize_state(current_state, 'Us')"
   ]
  }
 ],
 "metadata": {
  "kernelspec": {
   "display_name": "venv",
   "language": "python",
   "name": "python3"
  },
  "language_info": {
   "codemirror_mode": {
    "name": "ipython",
    "version": 3
   },
   "file_extension": ".py",
   "mimetype": "text/x-python",
   "name": "python",
   "nbconvert_exporter": "python",
   "pygments_lexer": "ipython3",
   "version": "3.10.11"
  }
 },
 "nbformat": 4,
 "nbformat_minor": 2
}
